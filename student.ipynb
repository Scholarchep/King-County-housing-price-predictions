{
 "cells": [
  {
   "cell_type": "markdown",
   "metadata": {},
   "source": [
    "# KING COUNTY HOUSING PRICE PREDICTIONS\n",
    "\n",
    "Please fill out:\n",
    "* Student name: Scholar Chepkirui \n",
    "* Student pace: part time \n",
    "* Scheduled project review date/time: 15/12/2022\n",
    "* Instructor name: Asha Deen/ Rose Delilah/ Noah Kandie \n",
    "* Blog post URL:\n"
   ]
  },
  {
   "cell_type": "markdown",
   "metadata": {},
   "source": [
    "## Project overview\n",
    "This project uses regression modeling to analyze house sales in King County. The final model can predict the price of a house based on various features, hence it will be used by a real estate agency to establish a realistic asking price. The findings from the model shows the house features that have a great impact on the price of a house based on past sales. These findings can be used by the real estate agency to advise homeowners on any improvements that can be made to increase the house price.    "
   ]
  },
  {
   "cell_type": "markdown",
   "metadata": {},
   "source": [
    "## Business problem"
   ]
  },
  {
   "cell_type": "markdown",
   "metadata": {},
   "source": [
    "There is a real estate agency in King County that helps homeowners sell homes. The agency has 18 house unique features that it considers when estimating the value of a house. Due to the many house features available, the real estate agency has a difficulty in establishing a realistic asking price. Additionally, the real estate agency advises homeowners on how to increase the estimated value of their homes, such as by doing home renovations. However, they are not really sure if the advice given has a great impact on the house price value.  \n",
    "This project aims to build a  model that  can predict the price of a house based on various features. This helps the agency in coming up with a realistic asking price. The findings obtained while building the model provides insights on the house features that have a greater impact on house price. From these findings, the agency can appropriately advise the homeowner on any improvements that can be made to increase the house price.   "
   ]
  },
  {
   "cell_type": "markdown",
   "metadata": {},
   "source": [
    "## Import libraries and load the data"
   ]
  },
  {
   "cell_type": "code",
   "execution_count": 1,
   "metadata": {},
   "outputs": [],
   "source": [
    "# import libraries\n",
    "import pandas as pd\n",
    "import numpy as np\n",
    "import matplotlib.pyplot as plt\n",
    "import seaborn as sns\n",
    "import statsmodels.api as sm\n",
    "import scipy.stats as stats\n",
    "from statsmodels.formula.api import ols\n",
    "from sklearn.linear_model import LinearRegression\n",
    "from sklearn.model_selection import cross_val_score\n",
    "from sklearn.model_selection import KFold\n",
    "from sklearn.model_selection import train_test_split\n",
    "from sklearn.preprocessing import FunctionTransformer\n",
    "from sklearn.metrics import mean_squared_error\n",
    "from sklearn.preprocessing import StandardScaler\n",
    "from sklearn.feature_selection import RFE\n",
    "%matplotlib inline"
   ]
  },
  {
   "cell_type": "code",
   "execution_count": 2,
   "metadata": {},
   "outputs": [],
   "source": [
    "# load the dataset\n",
    "house_data = pd.read_csv('data\\kc_house_data.csv')"
   ]
  },
  {
   "cell_type": "markdown",
   "metadata": {},
   "source": [
    "## Data understanding"
   ]
  },
  {
   "cell_type": "code",
   "execution_count": 3,
   "metadata": {},
   "outputs": [
    {
     "data": {
      "text/html": [
       "<div>\n",
       "<style scoped>\n",
       "    .dataframe tbody tr th:only-of-type {\n",
       "        vertical-align: middle;\n",
       "    }\n",
       "\n",
       "    .dataframe tbody tr th {\n",
       "        vertical-align: top;\n",
       "    }\n",
       "\n",
       "    .dataframe thead th {\n",
       "        text-align: right;\n",
       "    }\n",
       "</style>\n",
       "<table border=\"1\" class=\"dataframe\">\n",
       "  <thead>\n",
       "    <tr style=\"text-align: right;\">\n",
       "      <th></th>\n",
       "      <th>id</th>\n",
       "      <th>date</th>\n",
       "      <th>price</th>\n",
       "      <th>bedrooms</th>\n",
       "      <th>bathrooms</th>\n",
       "      <th>sqft_living</th>\n",
       "      <th>sqft_lot</th>\n",
       "      <th>floors</th>\n",
       "      <th>waterfront</th>\n",
       "      <th>view</th>\n",
       "      <th>...</th>\n",
       "      <th>grade</th>\n",
       "      <th>sqft_above</th>\n",
       "      <th>sqft_basement</th>\n",
       "      <th>yr_built</th>\n",
       "      <th>yr_renovated</th>\n",
       "      <th>zipcode</th>\n",
       "      <th>lat</th>\n",
       "      <th>long</th>\n",
       "      <th>sqft_living15</th>\n",
       "      <th>sqft_lot15</th>\n",
       "    </tr>\n",
       "  </thead>\n",
       "  <tbody>\n",
       "    <tr>\n",
       "      <th>0</th>\n",
       "      <td>7129300520</td>\n",
       "      <td>10/13/2014</td>\n",
       "      <td>221900.0</td>\n",
       "      <td>3</td>\n",
       "      <td>1.00</td>\n",
       "      <td>1180</td>\n",
       "      <td>5650</td>\n",
       "      <td>1.0</td>\n",
       "      <td>NaN</td>\n",
       "      <td>0.0</td>\n",
       "      <td>...</td>\n",
       "      <td>7</td>\n",
       "      <td>1180</td>\n",
       "      <td>0.0</td>\n",
       "      <td>1955</td>\n",
       "      <td>0.0</td>\n",
       "      <td>98178</td>\n",
       "      <td>47.5112</td>\n",
       "      <td>-122.257</td>\n",
       "      <td>1340</td>\n",
       "      <td>5650</td>\n",
       "    </tr>\n",
       "    <tr>\n",
       "      <th>1</th>\n",
       "      <td>6414100192</td>\n",
       "      <td>12/9/2014</td>\n",
       "      <td>538000.0</td>\n",
       "      <td>3</td>\n",
       "      <td>2.25</td>\n",
       "      <td>2570</td>\n",
       "      <td>7242</td>\n",
       "      <td>2.0</td>\n",
       "      <td>0.0</td>\n",
       "      <td>0.0</td>\n",
       "      <td>...</td>\n",
       "      <td>7</td>\n",
       "      <td>2170</td>\n",
       "      <td>400.0</td>\n",
       "      <td>1951</td>\n",
       "      <td>1991.0</td>\n",
       "      <td>98125</td>\n",
       "      <td>47.7210</td>\n",
       "      <td>-122.319</td>\n",
       "      <td>1690</td>\n",
       "      <td>7639</td>\n",
       "    </tr>\n",
       "    <tr>\n",
       "      <th>2</th>\n",
       "      <td>5631500400</td>\n",
       "      <td>2/25/2015</td>\n",
       "      <td>180000.0</td>\n",
       "      <td>2</td>\n",
       "      <td>1.00</td>\n",
       "      <td>770</td>\n",
       "      <td>10000</td>\n",
       "      <td>1.0</td>\n",
       "      <td>0.0</td>\n",
       "      <td>0.0</td>\n",
       "      <td>...</td>\n",
       "      <td>6</td>\n",
       "      <td>770</td>\n",
       "      <td>0.0</td>\n",
       "      <td>1933</td>\n",
       "      <td>NaN</td>\n",
       "      <td>98028</td>\n",
       "      <td>47.7379</td>\n",
       "      <td>-122.233</td>\n",
       "      <td>2720</td>\n",
       "      <td>8062</td>\n",
       "    </tr>\n",
       "    <tr>\n",
       "      <th>3</th>\n",
       "      <td>2487200875</td>\n",
       "      <td>12/9/2014</td>\n",
       "      <td>604000.0</td>\n",
       "      <td>4</td>\n",
       "      <td>3.00</td>\n",
       "      <td>1960</td>\n",
       "      <td>5000</td>\n",
       "      <td>1.0</td>\n",
       "      <td>0.0</td>\n",
       "      <td>0.0</td>\n",
       "      <td>...</td>\n",
       "      <td>7</td>\n",
       "      <td>1050</td>\n",
       "      <td>910.0</td>\n",
       "      <td>1965</td>\n",
       "      <td>0.0</td>\n",
       "      <td>98136</td>\n",
       "      <td>47.5208</td>\n",
       "      <td>-122.393</td>\n",
       "      <td>1360</td>\n",
       "      <td>5000</td>\n",
       "    </tr>\n",
       "    <tr>\n",
       "      <th>4</th>\n",
       "      <td>1954400510</td>\n",
       "      <td>2/18/2015</td>\n",
       "      <td>510000.0</td>\n",
       "      <td>3</td>\n",
       "      <td>2.00</td>\n",
       "      <td>1680</td>\n",
       "      <td>8080</td>\n",
       "      <td>1.0</td>\n",
       "      <td>0.0</td>\n",
       "      <td>0.0</td>\n",
       "      <td>...</td>\n",
       "      <td>8</td>\n",
       "      <td>1680</td>\n",
       "      <td>0.0</td>\n",
       "      <td>1987</td>\n",
       "      <td>0.0</td>\n",
       "      <td>98074</td>\n",
       "      <td>47.6168</td>\n",
       "      <td>-122.045</td>\n",
       "      <td>1800</td>\n",
       "      <td>7503</td>\n",
       "    </tr>\n",
       "  </tbody>\n",
       "</table>\n",
       "<p>5 rows × 21 columns</p>\n",
       "</div>"
      ],
      "text/plain": [
       "           id        date     price  bedrooms  bathrooms  sqft_living  \\\n",
       "0  7129300520  10/13/2014  221900.0         3       1.00         1180   \n",
       "1  6414100192   12/9/2014  538000.0         3       2.25         2570   \n",
       "2  5631500400   2/25/2015  180000.0         2       1.00          770   \n",
       "3  2487200875   12/9/2014  604000.0         4       3.00         1960   \n",
       "4  1954400510   2/18/2015  510000.0         3       2.00         1680   \n",
       "\n",
       "   sqft_lot  floors  waterfront  view  ...  grade  sqft_above  sqft_basement  \\\n",
       "0      5650     1.0         NaN   0.0  ...      7        1180            0.0   \n",
       "1      7242     2.0         0.0   0.0  ...      7        2170          400.0   \n",
       "2     10000     1.0         0.0   0.0  ...      6         770            0.0   \n",
       "3      5000     1.0         0.0   0.0  ...      7        1050          910.0   \n",
       "4      8080     1.0         0.0   0.0  ...      8        1680            0.0   \n",
       "\n",
       "  yr_built  yr_renovated  zipcode      lat     long  sqft_living15  sqft_lot15  \n",
       "0     1955           0.0    98178  47.5112 -122.257           1340        5650  \n",
       "1     1951        1991.0    98125  47.7210 -122.319           1690        7639  \n",
       "2     1933           NaN    98028  47.7379 -122.233           2720        8062  \n",
       "3     1965           0.0    98136  47.5208 -122.393           1360        5000  \n",
       "4     1987           0.0    98074  47.6168 -122.045           1800        7503  \n",
       "\n",
       "[5 rows x 21 columns]"
      ]
     },
     "execution_count": 3,
     "metadata": {},
     "output_type": "execute_result"
    }
   ],
   "source": [
    "#preview the dataset\n",
    "house_data.head()"
   ]
  },
  {
   "cell_type": "code",
   "execution_count": 4,
   "metadata": {},
   "outputs": [
    {
     "name": "stdout",
     "output_type": "stream",
     "text": [
      "house_data has 21597 rows and 21 columns\n"
     ]
    }
   ],
   "source": [
    "#number of rows and columns of house_data\n",
    "print(f'house_data has {house_data.shape[0]} rows and {house_data.shape[1]} columns')"
   ]
  },
  {
   "cell_type": "code",
   "execution_count": 5,
   "metadata": {},
   "outputs": [
    {
     "name": "stdout",
     "output_type": "stream",
     "text": [
      "<class 'pandas.core.frame.DataFrame'>\n",
      "RangeIndex: 21597 entries, 0 to 21596\n",
      "Data columns (total 21 columns):\n",
      " #   Column         Non-Null Count  Dtype  \n",
      "---  ------         --------------  -----  \n",
      " 0   id             21597 non-null  int64  \n",
      " 1   date           21597 non-null  object \n",
      " 2   price          21597 non-null  float64\n",
      " 3   bedrooms       21597 non-null  int64  \n",
      " 4   bathrooms      21597 non-null  float64\n",
      " 5   sqft_living    21597 non-null  int64  \n",
      " 6   sqft_lot       21597 non-null  int64  \n",
      " 7   floors         21597 non-null  float64\n",
      " 8   waterfront     19221 non-null  float64\n",
      " 9   view           21534 non-null  float64\n",
      " 10  condition      21597 non-null  int64  \n",
      " 11  grade          21597 non-null  int64  \n",
      " 12  sqft_above     21597 non-null  int64  \n",
      " 13  sqft_basement  21597 non-null  object \n",
      " 14  yr_built       21597 non-null  int64  \n",
      " 15  yr_renovated   17755 non-null  float64\n",
      " 16  zipcode        21597 non-null  int64  \n",
      " 17  lat            21597 non-null  float64\n",
      " 18  long           21597 non-null  float64\n",
      " 19  sqft_living15  21597 non-null  int64  \n",
      " 20  sqft_lot15     21597 non-null  int64  \n",
      "dtypes: float64(8), int64(11), object(2)\n",
      "memory usage: 3.5+ MB\n"
     ]
    }
   ],
   "source": [
    "#summary of house_data dataframe\n",
    "house_data.info()"
   ]
  },
  {
   "cell_type": "code",
   "execution_count": 6,
   "metadata": {},
   "outputs": [
    {
     "data": {
      "text/html": [
       "<div>\n",
       "<style scoped>\n",
       "    .dataframe tbody tr th:only-of-type {\n",
       "        vertical-align: middle;\n",
       "    }\n",
       "\n",
       "    .dataframe tbody tr th {\n",
       "        vertical-align: top;\n",
       "    }\n",
       "\n",
       "    .dataframe thead th {\n",
       "        text-align: right;\n",
       "    }\n",
       "</style>\n",
       "<table border=\"1\" class=\"dataframe\">\n",
       "  <thead>\n",
       "    <tr style=\"text-align: right;\">\n",
       "      <th></th>\n",
       "      <th>price</th>\n",
       "      <th>bedrooms</th>\n",
       "      <th>bathrooms</th>\n",
       "      <th>sqft_living</th>\n",
       "      <th>sqft_lot</th>\n",
       "      <th>floors</th>\n",
       "      <th>waterfront</th>\n",
       "      <th>view</th>\n",
       "      <th>condition</th>\n",
       "      <th>grade</th>\n",
       "      <th>sqft_above</th>\n",
       "      <th>yr_built</th>\n",
       "      <th>yr_renovated</th>\n",
       "      <th>zipcode</th>\n",
       "      <th>lat</th>\n",
       "      <th>long</th>\n",
       "      <th>sqft_living15</th>\n",
       "      <th>sqft_lot15</th>\n",
       "    </tr>\n",
       "  </thead>\n",
       "  <tbody>\n",
       "    <tr>\n",
       "      <th>count</th>\n",
       "      <td>2.159700e+04</td>\n",
       "      <td>21597.000000</td>\n",
       "      <td>21597.000000</td>\n",
       "      <td>21597.000000</td>\n",
       "      <td>2.159700e+04</td>\n",
       "      <td>21597.000000</td>\n",
       "      <td>19221.000000</td>\n",
       "      <td>21534.000000</td>\n",
       "      <td>21597.000000</td>\n",
       "      <td>21597.000000</td>\n",
       "      <td>21597.000000</td>\n",
       "      <td>21597.000000</td>\n",
       "      <td>17755.000000</td>\n",
       "      <td>21597.000000</td>\n",
       "      <td>21597.000000</td>\n",
       "      <td>21597.000000</td>\n",
       "      <td>21597.000000</td>\n",
       "      <td>21597.000000</td>\n",
       "    </tr>\n",
       "    <tr>\n",
       "      <th>mean</th>\n",
       "      <td>5.402966e+05</td>\n",
       "      <td>3.373200</td>\n",
       "      <td>2.115826</td>\n",
       "      <td>2080.321850</td>\n",
       "      <td>1.509941e+04</td>\n",
       "      <td>1.494096</td>\n",
       "      <td>0.007596</td>\n",
       "      <td>0.233863</td>\n",
       "      <td>3.409825</td>\n",
       "      <td>7.657915</td>\n",
       "      <td>1788.596842</td>\n",
       "      <td>1970.999676</td>\n",
       "      <td>83.636778</td>\n",
       "      <td>98077.951845</td>\n",
       "      <td>47.560093</td>\n",
       "      <td>-122.213982</td>\n",
       "      <td>1986.620318</td>\n",
       "      <td>12758.283512</td>\n",
       "    </tr>\n",
       "    <tr>\n",
       "      <th>std</th>\n",
       "      <td>3.673681e+05</td>\n",
       "      <td>0.926299</td>\n",
       "      <td>0.768984</td>\n",
       "      <td>918.106125</td>\n",
       "      <td>4.141264e+04</td>\n",
       "      <td>0.539683</td>\n",
       "      <td>0.086825</td>\n",
       "      <td>0.765686</td>\n",
       "      <td>0.650546</td>\n",
       "      <td>1.173200</td>\n",
       "      <td>827.759761</td>\n",
       "      <td>29.375234</td>\n",
       "      <td>399.946414</td>\n",
       "      <td>53.513072</td>\n",
       "      <td>0.138552</td>\n",
       "      <td>0.140724</td>\n",
       "      <td>685.230472</td>\n",
       "      <td>27274.441950</td>\n",
       "    </tr>\n",
       "    <tr>\n",
       "      <th>min</th>\n",
       "      <td>7.800000e+04</td>\n",
       "      <td>1.000000</td>\n",
       "      <td>0.500000</td>\n",
       "      <td>370.000000</td>\n",
       "      <td>5.200000e+02</td>\n",
       "      <td>1.000000</td>\n",
       "      <td>0.000000</td>\n",
       "      <td>0.000000</td>\n",
       "      <td>1.000000</td>\n",
       "      <td>3.000000</td>\n",
       "      <td>370.000000</td>\n",
       "      <td>1900.000000</td>\n",
       "      <td>0.000000</td>\n",
       "      <td>98001.000000</td>\n",
       "      <td>47.155900</td>\n",
       "      <td>-122.519000</td>\n",
       "      <td>399.000000</td>\n",
       "      <td>651.000000</td>\n",
       "    </tr>\n",
       "    <tr>\n",
       "      <th>25%</th>\n",
       "      <td>3.220000e+05</td>\n",
       "      <td>3.000000</td>\n",
       "      <td>1.750000</td>\n",
       "      <td>1430.000000</td>\n",
       "      <td>5.040000e+03</td>\n",
       "      <td>1.000000</td>\n",
       "      <td>0.000000</td>\n",
       "      <td>0.000000</td>\n",
       "      <td>3.000000</td>\n",
       "      <td>7.000000</td>\n",
       "      <td>1190.000000</td>\n",
       "      <td>1951.000000</td>\n",
       "      <td>0.000000</td>\n",
       "      <td>98033.000000</td>\n",
       "      <td>47.471100</td>\n",
       "      <td>-122.328000</td>\n",
       "      <td>1490.000000</td>\n",
       "      <td>5100.000000</td>\n",
       "    </tr>\n",
       "    <tr>\n",
       "      <th>50%</th>\n",
       "      <td>4.500000e+05</td>\n",
       "      <td>3.000000</td>\n",
       "      <td>2.250000</td>\n",
       "      <td>1910.000000</td>\n",
       "      <td>7.618000e+03</td>\n",
       "      <td>1.500000</td>\n",
       "      <td>0.000000</td>\n",
       "      <td>0.000000</td>\n",
       "      <td>3.000000</td>\n",
       "      <td>7.000000</td>\n",
       "      <td>1560.000000</td>\n",
       "      <td>1975.000000</td>\n",
       "      <td>0.000000</td>\n",
       "      <td>98065.000000</td>\n",
       "      <td>47.571800</td>\n",
       "      <td>-122.231000</td>\n",
       "      <td>1840.000000</td>\n",
       "      <td>7620.000000</td>\n",
       "    </tr>\n",
       "    <tr>\n",
       "      <th>75%</th>\n",
       "      <td>6.450000e+05</td>\n",
       "      <td>4.000000</td>\n",
       "      <td>2.500000</td>\n",
       "      <td>2550.000000</td>\n",
       "      <td>1.068500e+04</td>\n",
       "      <td>2.000000</td>\n",
       "      <td>0.000000</td>\n",
       "      <td>0.000000</td>\n",
       "      <td>4.000000</td>\n",
       "      <td>8.000000</td>\n",
       "      <td>2210.000000</td>\n",
       "      <td>1997.000000</td>\n",
       "      <td>0.000000</td>\n",
       "      <td>98118.000000</td>\n",
       "      <td>47.678000</td>\n",
       "      <td>-122.125000</td>\n",
       "      <td>2360.000000</td>\n",
       "      <td>10083.000000</td>\n",
       "    </tr>\n",
       "    <tr>\n",
       "      <th>max</th>\n",
       "      <td>7.700000e+06</td>\n",
       "      <td>33.000000</td>\n",
       "      <td>8.000000</td>\n",
       "      <td>13540.000000</td>\n",
       "      <td>1.651359e+06</td>\n",
       "      <td>3.500000</td>\n",
       "      <td>1.000000</td>\n",
       "      <td>4.000000</td>\n",
       "      <td>5.000000</td>\n",
       "      <td>13.000000</td>\n",
       "      <td>9410.000000</td>\n",
       "      <td>2015.000000</td>\n",
       "      <td>2015.000000</td>\n",
       "      <td>98199.000000</td>\n",
       "      <td>47.777600</td>\n",
       "      <td>-121.315000</td>\n",
       "      <td>6210.000000</td>\n",
       "      <td>871200.000000</td>\n",
       "    </tr>\n",
       "  </tbody>\n",
       "</table>\n",
       "</div>"
      ],
      "text/plain": [
       "              price      bedrooms     bathrooms   sqft_living      sqft_lot  \\\n",
       "count  2.159700e+04  21597.000000  21597.000000  21597.000000  2.159700e+04   \n",
       "mean   5.402966e+05      3.373200      2.115826   2080.321850  1.509941e+04   \n",
       "std    3.673681e+05      0.926299      0.768984    918.106125  4.141264e+04   \n",
       "min    7.800000e+04      1.000000      0.500000    370.000000  5.200000e+02   \n",
       "25%    3.220000e+05      3.000000      1.750000   1430.000000  5.040000e+03   \n",
       "50%    4.500000e+05      3.000000      2.250000   1910.000000  7.618000e+03   \n",
       "75%    6.450000e+05      4.000000      2.500000   2550.000000  1.068500e+04   \n",
       "max    7.700000e+06     33.000000      8.000000  13540.000000  1.651359e+06   \n",
       "\n",
       "             floors    waterfront          view     condition         grade  \\\n",
       "count  21597.000000  19221.000000  21534.000000  21597.000000  21597.000000   \n",
       "mean       1.494096      0.007596      0.233863      3.409825      7.657915   \n",
       "std        0.539683      0.086825      0.765686      0.650546      1.173200   \n",
       "min        1.000000      0.000000      0.000000      1.000000      3.000000   \n",
       "25%        1.000000      0.000000      0.000000      3.000000      7.000000   \n",
       "50%        1.500000      0.000000      0.000000      3.000000      7.000000   \n",
       "75%        2.000000      0.000000      0.000000      4.000000      8.000000   \n",
       "max        3.500000      1.000000      4.000000      5.000000     13.000000   \n",
       "\n",
       "         sqft_above      yr_built  yr_renovated       zipcode           lat  \\\n",
       "count  21597.000000  21597.000000  17755.000000  21597.000000  21597.000000   \n",
       "mean    1788.596842   1970.999676     83.636778  98077.951845     47.560093   \n",
       "std      827.759761     29.375234    399.946414     53.513072      0.138552   \n",
       "min      370.000000   1900.000000      0.000000  98001.000000     47.155900   \n",
       "25%     1190.000000   1951.000000      0.000000  98033.000000     47.471100   \n",
       "50%     1560.000000   1975.000000      0.000000  98065.000000     47.571800   \n",
       "75%     2210.000000   1997.000000      0.000000  98118.000000     47.678000   \n",
       "max     9410.000000   2015.000000   2015.000000  98199.000000     47.777600   \n",
       "\n",
       "               long  sqft_living15     sqft_lot15  \n",
       "count  21597.000000   21597.000000   21597.000000  \n",
       "mean    -122.213982    1986.620318   12758.283512  \n",
       "std        0.140724     685.230472   27274.441950  \n",
       "min     -122.519000     399.000000     651.000000  \n",
       "25%     -122.328000    1490.000000    5100.000000  \n",
       "50%     -122.231000    1840.000000    7620.000000  \n",
       "75%     -122.125000    2360.000000   10083.000000  \n",
       "max     -121.315000    6210.000000  871200.000000  "
      ]
     },
     "execution_count": 6,
     "metadata": {},
     "output_type": "execute_result"
    }
   ],
   "source": [
    "#summary statistics of house_data\n",
    "house_data.drop('id', axis=1).describe()"
   ]
  },
  {
   "cell_type": "code",
   "execution_count": 7,
   "metadata": {},
   "outputs": [
    {
     "name": "stdout",
     "output_type": "stream",
     "text": [
      "BEDROOMS:\n",
      "3     9824\n",
      "4     6882\n",
      "2     2760\n",
      "5     1601\n",
      "6      272\n",
      "1      196\n",
      "7       38\n",
      "8       13\n",
      "9        6\n",
      "10       3\n",
      "11       1\n",
      "33       1\n",
      "Name: bedrooms, dtype: int64\n",
      "********************************\n",
      "BATHROOMS:\n",
      "2.50    5377\n",
      "1.00    3851\n",
      "1.75    3048\n",
      "2.25    2047\n",
      "2.00    1930\n",
      "1.50    1445\n",
      "2.75    1185\n",
      "3.00     753\n",
      "3.50     731\n",
      "3.25     589\n",
      "3.75     155\n",
      "4.00     136\n",
      "4.50     100\n",
      "4.25      79\n",
      "0.75      71\n",
      "4.75      23\n",
      "5.00      21\n",
      "5.25      13\n",
      "5.50      10\n",
      "1.25       9\n",
      "6.00       6\n",
      "0.50       4\n",
      "5.75       4\n",
      "6.75       2\n",
      "8.00       2\n",
      "6.25       2\n",
      "6.50       2\n",
      "7.50       1\n",
      "7.75       1\n",
      "Name: bathrooms, dtype: int64\n",
      "********************************\n",
      "FLOORS:\n",
      "1.0    10673\n",
      "2.0     8235\n",
      "1.5     1910\n",
      "3.0      611\n",
      "2.5      161\n",
      "3.5        7\n",
      "Name: floors, dtype: int64\n",
      "********************************\n",
      "WATERFRONT:\n",
      "0.0    19075\n",
      "1.0      146\n",
      "Name: waterfront, dtype: int64\n",
      "********************************\n",
      "VIEW:\n",
      "0.0    19422\n",
      "2.0      957\n",
      "3.0      508\n",
      "1.0      330\n",
      "4.0      317\n",
      "Name: view, dtype: int64\n",
      "********************************\n",
      "YR_RENOVATED:\n",
      "0.0       17011\n",
      "2014.0       73\n",
      "2013.0       31\n",
      "2003.0       31\n",
      "2007.0       30\n",
      "          ...  \n",
      "1951.0        1\n",
      "1953.0        1\n",
      "1946.0        1\n",
      "1976.0        1\n",
      "1948.0        1\n",
      "Name: yr_renovated, Length: 70, dtype: int64\n",
      "********************************\n"
     ]
    }
   ],
   "source": [
    "# unique values of some columns\n",
    "for column in ['bedrooms', 'bathrooms', 'floors',  'waterfront', 'view', 'yr_renovated']:\n",
    "    print(f'{column.upper()}:')\n",
    "    print(house_data[column].value_counts())\n",
    "    print('********************************')"
   ]
  },
  {
   "cell_type": "markdown",
   "metadata": {},
   "source": [
    "price column is the target variable in this dataset. The visualization below shows the distribution of the house prices. "
   ]
  },
  {
   "cell_type": "code",
   "execution_count": 8,
   "metadata": {},
   "outputs": [
    {
     "data": {
      "image/png": "[encoded data removed]",
      "text/plain": [
       "<Figure size 1008x504 with 1 Axes>"
      ]
     },
     "metadata": {
      "needs_background": "light"
     },
     "output_type": "display_data"
    }
   ],
   "source": [
    "# Distribution of house prices\n",
    "fig, ax = plt.subplots(figsize=(14,7))\n",
    "sns.histplot(house_data['price']/1000000, kde=True, kde_kws=dict(cut=3),\n",
    "             alpha=.4, edgecolor=(1, 1, 1, .4), ax=ax)\n",
    "ax.set_title('Distribution of house prices')\n",
    "ax.set_xlabel('Price in Millions');"
   ]
  },
  {
   "cell_type": "markdown",
   "metadata": {},
   "source": [
    "The distribution is positively skewed. Most houses have a price around 500,000. There are very few houses with prices greater than 2 Million. Log transformation would be applied to the price column to make the distribution less skewed."
   ]
  },
  {
   "cell_type": "markdown",
   "metadata": {},
   "source": [
    "## Data preparation"
   ]
  },
  {
   "cell_type": "markdown",
   "metadata": {},
   "source": [
    "###  Check for duplicates"
   ]
  },
  {
   "cell_type": "code",
   "execution_count": 9,
   "metadata": {},
   "outputs": [
    {
     "data": {
      "text/plain": [
       "False    21597\n",
       "dtype: int64"
      ]
     },
     "execution_count": 9,
     "metadata": {},
     "output_type": "execute_result"
    }
   ],
   "source": [
    "# check for duplicates\n",
    "house_data.duplicated(subset = ['id', 'date']).value_counts()"
   ]
  },
  {
   "cell_type": "markdown",
   "metadata": {},
   "source": [
    "The data has no duplicate records"
   ]
  },
  {
   "cell_type": "markdown",
   "metadata": {},
   "source": [
    "### Handle missing values"
   ]
  },
  {
   "cell_type": "code",
   "execution_count": 10,
   "metadata": {},
   "outputs": [
    {
     "data": {
      "text/plain": [
       "id                  0\n",
       "date                0\n",
       "price               0\n",
       "bedrooms            0\n",
       "bathrooms           0\n",
       "sqft_living         0\n",
       "sqft_lot            0\n",
       "floors              0\n",
       "waterfront       2376\n",
       "view               63\n",
       "condition           0\n",
       "grade               0\n",
       "sqft_above          0\n",
       "sqft_basement       0\n",
       "yr_built            0\n",
       "yr_renovated     3842\n",
       "zipcode             0\n",
       "lat                 0\n",
       "long                0\n",
       "sqft_living15       0\n",
       "sqft_lot15          0\n",
       "dtype: int64"
      ]
     },
     "execution_count": 10,
     "metadata": {},
     "output_type": "execute_result"
    }
   ],
   "source": [
    "#check for missing values\n",
    "house_data.isnull().sum()"
   ]
  },
  {
   "cell_type": "markdown",
   "metadata": {},
   "source": [
    "To handle the missing values in the year_renovated,  view and waterfront columns of house_data, an assumption is made that the houses have not been renovated, have not been viewed and have no view to a waterfront."
   ]
  },
  {
   "cell_type": "code",
   "execution_count": 11,
   "metadata": {},
   "outputs": [],
   "source": [
    "# replace missing values with 0\n",
    "house_data = house_data.fillna(0.0)"
   ]
  },
  {
   "cell_type": "markdown",
   "metadata": {},
   "source": [
    "### Check for placeholders"
   ]
  },
  {
   "cell_type": "code",
   "execution_count": 12,
   "metadata": {},
   "outputs": [
    {
     "data": {
      "text/plain": [
       "0.0       12826\n",
       "?           454\n",
       "600.0       217\n",
       "500.0       209\n",
       "700.0       208\n",
       "          ...  \n",
       "1920.0        1\n",
       "3480.0        1\n",
       "2730.0        1\n",
       "2720.0        1\n",
       "248.0         1\n",
       "Name: sqft_basement, Length: 304, dtype: int64"
      ]
     },
     "execution_count": 12,
     "metadata": {},
     "output_type": "execute_result"
    }
   ],
   "source": [
    "#check for placeholders\n",
    "house_data['sqft_basement'].value_counts()"
   ]
  },
  {
   "cell_type": "code",
   "execution_count": 13,
   "metadata": {},
   "outputs": [],
   "source": [
    "#replace placeholder '?' with 0\n",
    "house_data['sqft_basement'] = house_data['sqft_basement'].str.replace('?', '0.0', regex=True)"
   ]
  },
  {
   "cell_type": "code",
   "execution_count": 14,
   "metadata": {},
   "outputs": [
    {
     "data": {
      "text/plain": [
       "0.0       13280\n",
       "600.0       217\n",
       "500.0       209\n",
       "700.0       208\n",
       "800.0       201\n",
       "          ...  \n",
       "1920.0        1\n",
       "3480.0        1\n",
       "2730.0        1\n",
       "2720.0        1\n",
       "248.0         1\n",
       "Name: sqft_basement, Length: 303, dtype: int64"
      ]
     },
     "execution_count": 14,
     "metadata": {},
     "output_type": "execute_result"
    }
   ],
   "source": [
    "# value counts of the sqft_basement column\n",
    "house_data['sqft_basement'].value_counts()"
   ]
  },
  {
   "cell_type": "markdown",
   "metadata": {},
   "source": [
    "### Fix wrong data types"
   ]
  },
  {
   "cell_type": "code",
   "execution_count": 15,
   "metadata": {},
   "outputs": [],
   "source": [
    "# fix the wrong data types\n",
    "house_data['date'] = pd.to_datetime(house_data['date'])\n",
    "house_data['sqft_basement'] = house_data['sqft_basement'].apply(float).apply(int)\n",
    "for column in ['waterfront', 'view', 'yr_renovated']:\n",
    "    house_data[column] = house_data[column].apply(int)"
   ]
  },
  {
   "cell_type": "code",
   "execution_count": 16,
   "metadata": {},
   "outputs": [
    {
     "data": {
      "text/plain": [
       "id                        int64\n",
       "date             datetime64[ns]\n",
       "price                   float64\n",
       "bedrooms                  int64\n",
       "bathrooms               float64\n",
       "sqft_living               int64\n",
       "sqft_lot                  int64\n",
       "floors                  float64\n",
       "waterfront                int64\n",
       "view                      int64\n",
       "condition                 int64\n",
       "grade                     int64\n",
       "sqft_above                int64\n",
       "sqft_basement             int64\n",
       "yr_built                  int64\n",
       "yr_renovated              int64\n",
       "zipcode                   int64\n",
       "lat                     float64\n",
       "long                    float64\n",
       "sqft_living15             int64\n",
       "sqft_lot15                int64\n",
       "dtype: object"
      ]
     },
     "execution_count": 16,
     "metadata": {},
     "output_type": "execute_result"
    }
   ],
   "source": [
    "# check the data types\n",
    "house_data.dtypes"
   ]
  },
  {
   "cell_type": "markdown",
   "metadata": {},
   "source": [
    "### Check for outliers"
   ]
  },
  {
   "cell_type": "code",
   "execution_count": 17,
   "metadata": {},
   "outputs": [
    {
     "data": {
      "text/plain": [
       "array([ 3,  2,  4,  5,  1,  6,  7,  8,  9, 11, 10, 33], dtype=int64)"
      ]
     },
     "execution_count": 17,
     "metadata": {},
     "output_type": "execute_result"
    }
   ],
   "source": [
    "#unique bedroom values\n",
    "house_data.bedrooms.unique()"
   ]
  },
  {
   "cell_type": "code",
   "execution_count": 18,
   "metadata": {},
   "outputs": [
    {
     "data": {
      "text/plain": [
       "<AxesSubplot:xlabel='bedrooms'>"
      ]
     },
     "execution_count": 18,
     "metadata": {},
     "output_type": "execute_result"
    },
    {
     "data": {
      "image/png": "[encoded data removed]",
      "text/plain": [
       "<Figure size 432x288 with 1 Axes>"
      ]
     },
     "metadata": {
      "needs_background": "light"
     },
     "output_type": "display_data"
    }
   ],
   "source": [
    "#boxplot showing the number of bedrooms\n",
    "sns.boxplot(x = house_data['bedrooms'])"
   ]
  },
  {
   "cell_type": "markdown",
   "metadata": {},
   "source": [
    "Bedrooms has some outliers. The house with 33 bedrooms will be dropped in this case."
   ]
  },
  {
   "cell_type": "code",
   "execution_count": 19,
   "metadata": {},
   "outputs": [],
   "source": [
    "# drop record with 33 bedrooms\n",
    "house_data = house_data[house_data['bedrooms'] <= 11]"
   ]
  },
  {
   "cell_type": "markdown",
   "metadata": {},
   "source": [
    "### Age of the house"
   ]
  },
  {
   "cell_type": "code",
   "execution_count": 20,
   "metadata": {},
   "outputs": [],
   "source": [
    "# extract the year the house  was sold from the date column\n",
    "house_data['year_sold'] = pd.DatetimeIndex(house_data['date']).year"
   ]
  },
  {
   "cell_type": "code",
   "execution_count": 21,
   "metadata": {},
   "outputs": [
    {
     "data": {
      "text/plain": [
       "array([ 59,  63,  82,  49,  28,  13,  19,  52,  55,  12,  50,  72,  87,\n",
       "        37, 115,  36,  20,  98,  93,  46,  67,  29,  73,  99, 105,  66,\n",
       "        10,  11,   9,  85,  33,  84,  81, 110,  18,  14,  30,   0,  92,\n",
       "        62,  64,  34,  88,   6,  24,  60,  41,  35,  89,  25,  43,  58,\n",
       "        74,  22,  51,  53,   8,  26,  75,  68,  48,  39, 104,  31, 114,\n",
       "         4,  69,  65,  90,  27, 101,  47,  54, 109,   7,  61,  15,  38,\n",
       "        16, 113,  21,  94,  45, 100, 111,  96,  97,  86, 103,  78,  77,\n",
       "        76, 107,  40,  57, 102,  17,  71,   1,  23,  91,  42,  95,   2,\n",
       "        32,   3,  56,  70,  44, 112,   5,  80,  83, 106, 108,  79,  -1],\n",
       "      dtype=int64)"
      ]
     },
     "execution_count": 21,
     "metadata": {},
     "output_type": "execute_result"
    }
   ],
   "source": [
    "# create a column for the house age\n",
    "house_data['house_age'] = house_data['year_sold'] - house_data['yr_built']\n",
    "#check unique values of house_age\n",
    "house_data['house_age'].unique()"
   ]
  },
  {
   "cell_type": "code",
   "execution_count": 22,
   "metadata": {},
   "outputs": [
    {
     "data": {
      "text/html": [
       "<div>\n",
       "<style scoped>\n",
       "    .dataframe tbody tr th:only-of-type {\n",
       "        vertical-align: middle;\n",
       "    }\n",
       "\n",
       "    .dataframe tbody tr th {\n",
       "        vertical-align: top;\n",
       "    }\n",
       "\n",
       "    .dataframe thead th {\n",
       "        text-align: right;\n",
       "    }\n",
       "</style>\n",
       "<table border=\"1\" class=\"dataframe\">\n",
       "  <thead>\n",
       "    <tr style=\"text-align: right;\">\n",
       "      <th></th>\n",
       "      <th>id</th>\n",
       "      <th>date</th>\n",
       "      <th>price</th>\n",
       "      <th>bedrooms</th>\n",
       "      <th>bathrooms</th>\n",
       "      <th>sqft_living</th>\n",
       "      <th>sqft_lot</th>\n",
       "      <th>floors</th>\n",
       "      <th>waterfront</th>\n",
       "      <th>view</th>\n",
       "      <th>...</th>\n",
       "      <th>sqft_basement</th>\n",
       "      <th>yr_built</th>\n",
       "      <th>yr_renovated</th>\n",
       "      <th>zipcode</th>\n",
       "      <th>lat</th>\n",
       "      <th>long</th>\n",
       "      <th>sqft_living15</th>\n",
       "      <th>sqft_lot15</th>\n",
       "      <th>year_sold</th>\n",
       "      <th>house_age</th>\n",
       "    </tr>\n",
       "  </thead>\n",
       "  <tbody>\n",
       "    <tr>\n",
       "      <th>1761</th>\n",
       "      <td>1832100030</td>\n",
       "      <td>2014-06-25</td>\n",
       "      <td>597326.0</td>\n",
       "      <td>4</td>\n",
       "      <td>4.00</td>\n",
       "      <td>3570</td>\n",
       "      <td>8250</td>\n",
       "      <td>2.0</td>\n",
       "      <td>0</td>\n",
       "      <td>0</td>\n",
       "      <td>...</td>\n",
       "      <td>710</td>\n",
       "      <td>2015</td>\n",
       "      <td>0</td>\n",
       "      <td>98040</td>\n",
       "      <td>47.5784</td>\n",
       "      <td>-122.226</td>\n",
       "      <td>2230</td>\n",
       "      <td>10000</td>\n",
       "      <td>2014</td>\n",
       "      <td>-1</td>\n",
       "    </tr>\n",
       "    <tr>\n",
       "      <th>2685</th>\n",
       "      <td>3076500830</td>\n",
       "      <td>2014-10-29</td>\n",
       "      <td>385195.0</td>\n",
       "      <td>1</td>\n",
       "      <td>1.00</td>\n",
       "      <td>710</td>\n",
       "      <td>6000</td>\n",
       "      <td>1.5</td>\n",
       "      <td>0</td>\n",
       "      <td>0</td>\n",
       "      <td>...</td>\n",
       "      <td>0</td>\n",
       "      <td>2015</td>\n",
       "      <td>0</td>\n",
       "      <td>98144</td>\n",
       "      <td>47.5756</td>\n",
       "      <td>-122.316</td>\n",
       "      <td>1440</td>\n",
       "      <td>4800</td>\n",
       "      <td>2014</td>\n",
       "      <td>-1</td>\n",
       "    </tr>\n",
       "    <tr>\n",
       "      <th>7519</th>\n",
       "      <td>9520900210</td>\n",
       "      <td>2014-12-31</td>\n",
       "      <td>614285.0</td>\n",
       "      <td>5</td>\n",
       "      <td>2.75</td>\n",
       "      <td>2730</td>\n",
       "      <td>6401</td>\n",
       "      <td>2.0</td>\n",
       "      <td>0</td>\n",
       "      <td>0</td>\n",
       "      <td>...</td>\n",
       "      <td>0</td>\n",
       "      <td>2015</td>\n",
       "      <td>0</td>\n",
       "      <td>98072</td>\n",
       "      <td>47.7685</td>\n",
       "      <td>-122.160</td>\n",
       "      <td>2520</td>\n",
       "      <td>6126</td>\n",
       "      <td>2014</td>\n",
       "      <td>-1</td>\n",
       "    </tr>\n",
       "    <tr>\n",
       "      <th>8032</th>\n",
       "      <td>1250200495</td>\n",
       "      <td>2014-06-24</td>\n",
       "      <td>455000.0</td>\n",
       "      <td>2</td>\n",
       "      <td>1.50</td>\n",
       "      <td>1200</td>\n",
       "      <td>1259</td>\n",
       "      <td>2.0</td>\n",
       "      <td>0</td>\n",
       "      <td>0</td>\n",
       "      <td>...</td>\n",
       "      <td>200</td>\n",
       "      <td>2015</td>\n",
       "      <td>0</td>\n",
       "      <td>98144</td>\n",
       "      <td>47.6001</td>\n",
       "      <td>-122.298</td>\n",
       "      <td>1320</td>\n",
       "      <td>1852</td>\n",
       "      <td>2014</td>\n",
       "      <td>-1</td>\n",
       "    </tr>\n",
       "    <tr>\n",
       "      <th>14475</th>\n",
       "      <td>2770601530</td>\n",
       "      <td>2014-08-26</td>\n",
       "      <td>500000.0</td>\n",
       "      <td>2</td>\n",
       "      <td>2.25</td>\n",
       "      <td>1570</td>\n",
       "      <td>1269</td>\n",
       "      <td>2.0</td>\n",
       "      <td>0</td>\n",
       "      <td>0</td>\n",
       "      <td>...</td>\n",
       "      <td>290</td>\n",
       "      <td>2015</td>\n",
       "      <td>0</td>\n",
       "      <td>98199</td>\n",
       "      <td>47.6514</td>\n",
       "      <td>-122.385</td>\n",
       "      <td>1570</td>\n",
       "      <td>6000</td>\n",
       "      <td>2014</td>\n",
       "      <td>-1</td>\n",
       "    </tr>\n",
       "  </tbody>\n",
       "</table>\n",
       "<p>5 rows × 23 columns</p>\n",
       "</div>"
      ],
      "text/plain": [
       "               id       date     price  bedrooms  bathrooms  sqft_living  \\\n",
       "1761   1832100030 2014-06-25  597326.0         4       4.00         3570   \n",
       "2685   3076500830 2014-10-29  385195.0         1       1.00          710   \n",
       "7519   9520900210 2014-12-31  614285.0         5       2.75         2730   \n",
       "8032   1250200495 2014-06-24  455000.0         2       1.50         1200   \n",
       "14475  2770601530 2014-08-26  500000.0         2       2.25         1570   \n",
       "\n",
       "       sqft_lot  floors  waterfront  view  ...  sqft_basement  yr_built  \\\n",
       "1761       8250     2.0           0     0  ...            710      2015   \n",
       "2685       6000     1.5           0     0  ...              0      2015   \n",
       "7519       6401     2.0           0     0  ...              0      2015   \n",
       "8032       1259     2.0           0     0  ...            200      2015   \n",
       "14475      1269     2.0           0     0  ...            290      2015   \n",
       "\n",
       "       yr_renovated  zipcode      lat     long  sqft_living15  sqft_lot15  \\\n",
       "1761              0    98040  47.5784 -122.226           2230       10000   \n",
       "2685              0    98144  47.5756 -122.316           1440        4800   \n",
       "7519              0    98072  47.7685 -122.160           2520        6126   \n",
       "8032              0    98144  47.6001 -122.298           1320        1852   \n",
       "14475             0    98199  47.6514 -122.385           1570        6000   \n",
       "\n",
       "       year_sold  house_age  \n",
       "1761        2014         -1  \n",
       "2685        2014         -1  \n",
       "7519        2014         -1  \n",
       "8032        2014         -1  \n",
       "14475       2014         -1  \n",
       "\n",
       "[5 rows x 23 columns]"
      ]
     },
     "execution_count": 22,
     "metadata": {},
     "output_type": "execute_result"
    }
   ],
   "source": [
    "# preview of records with house_age of -1 \n",
    "house_data[house_data['house_age'] == -1].head()"
   ]
  },
  {
   "cell_type": "code",
   "execution_count": 23,
   "metadata": {},
   "outputs": [
    {
     "data": {
      "text/plain": [
       "(12, 23)"
      ]
     },
     "execution_count": 23,
     "metadata": {},
     "output_type": "execute_result"
    }
   ],
   "source": [
    "# shape of records with house_age of -1 \n",
    "house_data[house_data['house_age'] == -1].shape"
   ]
  },
  {
   "cell_type": "markdown",
   "metadata": {},
   "source": [
    "The 12 records above contain wrong values, since a house cannot be sold a year before it was built. These records are therefore dropped. \n",
    "Columns for drop year_sold, yr_built and date are dropped as they are no longer required."
   ]
  },
  {
   "cell_type": "code",
   "execution_count": 24,
   "metadata": {},
   "outputs": [
    {
     "data": {
      "text/html": [
       "<div>\n",
       "<style scoped>\n",
       "    .dataframe tbody tr th:only-of-type {\n",
       "        vertical-align: middle;\n",
       "    }\n",
       "\n",
       "    .dataframe tbody tr th {\n",
       "        vertical-align: top;\n",
       "    }\n",
       "\n",
       "    .dataframe thead th {\n",
       "        text-align: right;\n",
       "    }\n",
       "</style>\n",
       "<table border=\"1\" class=\"dataframe\">\n",
       "  <thead>\n",
       "    <tr style=\"text-align: right;\">\n",
       "      <th></th>\n",
       "      <th>id</th>\n",
       "      <th>price</th>\n",
       "      <th>bedrooms</th>\n",
       "      <th>bathrooms</th>\n",
       "      <th>sqft_living</th>\n",
       "      <th>sqft_lot</th>\n",
       "      <th>floors</th>\n",
       "      <th>waterfront</th>\n",
       "      <th>view</th>\n",
       "      <th>condition</th>\n",
       "      <th>grade</th>\n",
       "      <th>sqft_above</th>\n",
       "      <th>sqft_basement</th>\n",
       "      <th>yr_renovated</th>\n",
       "      <th>zipcode</th>\n",
       "      <th>lat</th>\n",
       "      <th>long</th>\n",
       "      <th>sqft_living15</th>\n",
       "      <th>sqft_lot15</th>\n",
       "      <th>house_age</th>\n",
       "    </tr>\n",
       "  </thead>\n",
       "  <tbody>\n",
       "  </tbody>\n",
       "</table>\n",
       "</div>"
      ],
      "text/plain": [
       "Empty DataFrame\n",
       "Columns: [id, price, bedrooms, bathrooms, sqft_living, sqft_lot, floors, waterfront, view, condition, grade, sqft_above, sqft_basement, yr_renovated, zipcode, lat, long, sqft_living15, sqft_lot15, house_age]\n",
       "Index: []"
      ]
     },
     "execution_count": 24,
     "metadata": {},
     "output_type": "execute_result"
    }
   ],
   "source": [
    "# drop year_sold, yr_built and date columns\n",
    "house_data = house_data.drop(['year_sold', 'yr_built', 'date'] , axis=1)\n",
    "#drop rows with age of -1\n",
    "house_data = house_data[house_data['house_age'] >= 0]\n",
    "# check if the rows have been dropped\n",
    "house_data[house_data['house_age'] == -1].head()"
   ]
  },
  {
   "cell_type": "markdown",
   "metadata": {},
   "source": [
    "### Categorical column for renovations"
   ]
  },
  {
   "cell_type": "code",
   "execution_count": 25,
   "metadata": {},
   "outputs": [],
   "source": [
    "#create a new column 'renovations' to categorize yr_renovations \n",
    "house_data.loc[house_data['yr_renovated'] == 0, 'renovations'] = 'not renovated'\n",
    "house_data.loc[house_data['yr_renovated'] != 0, 'renovations'] = 'renovated'"
   ]
  },
  {
   "cell_type": "code",
   "execution_count": 26,
   "metadata": {},
   "outputs": [
    {
     "data": {
      "text/html": [
       "<div>\n",
       "<style scoped>\n",
       "    .dataframe tbody tr th:only-of-type {\n",
       "        vertical-align: middle;\n",
       "    }\n",
       "\n",
       "    .dataframe tbody tr th {\n",
       "        vertical-align: top;\n",
       "    }\n",
       "\n",
       "    .dataframe thead th {\n",
       "        text-align: right;\n",
       "    }\n",
       "</style>\n",
       "<table border=\"1\" class=\"dataframe\">\n",
       "  <thead>\n",
       "    <tr style=\"text-align: right;\">\n",
       "      <th></th>\n",
       "      <th>id</th>\n",
       "      <th>price</th>\n",
       "      <th>bedrooms</th>\n",
       "      <th>bathrooms</th>\n",
       "      <th>sqft_living</th>\n",
       "      <th>sqft_lot</th>\n",
       "      <th>floors</th>\n",
       "      <th>waterfront</th>\n",
       "      <th>view</th>\n",
       "      <th>condition</th>\n",
       "      <th>...</th>\n",
       "      <th>sqft_above</th>\n",
       "      <th>sqft_basement</th>\n",
       "      <th>yr_renovated</th>\n",
       "      <th>zipcode</th>\n",
       "      <th>lat</th>\n",
       "      <th>long</th>\n",
       "      <th>sqft_living15</th>\n",
       "      <th>sqft_lot15</th>\n",
       "      <th>house_age</th>\n",
       "      <th>renovations</th>\n",
       "    </tr>\n",
       "  </thead>\n",
       "  <tbody>\n",
       "    <tr>\n",
       "      <th>0</th>\n",
       "      <td>7129300520</td>\n",
       "      <td>221900.0</td>\n",
       "      <td>3</td>\n",
       "      <td>1.00</td>\n",
       "      <td>1180</td>\n",
       "      <td>5650</td>\n",
       "      <td>1.0</td>\n",
       "      <td>0</td>\n",
       "      <td>0</td>\n",
       "      <td>3</td>\n",
       "      <td>...</td>\n",
       "      <td>1180</td>\n",
       "      <td>0</td>\n",
       "      <td>0</td>\n",
       "      <td>98178</td>\n",
       "      <td>47.5112</td>\n",
       "      <td>-122.257</td>\n",
       "      <td>1340</td>\n",
       "      <td>5650</td>\n",
       "      <td>59</td>\n",
       "      <td>not renovated</td>\n",
       "    </tr>\n",
       "    <tr>\n",
       "      <th>1</th>\n",
       "      <td>6414100192</td>\n",
       "      <td>538000.0</td>\n",
       "      <td>3</td>\n",
       "      <td>2.25</td>\n",
       "      <td>2570</td>\n",
       "      <td>7242</td>\n",
       "      <td>2.0</td>\n",
       "      <td>0</td>\n",
       "      <td>0</td>\n",
       "      <td>3</td>\n",
       "      <td>...</td>\n",
       "      <td>2170</td>\n",
       "      <td>400</td>\n",
       "      <td>1991</td>\n",
       "      <td>98125</td>\n",
       "      <td>47.7210</td>\n",
       "      <td>-122.319</td>\n",
       "      <td>1690</td>\n",
       "      <td>7639</td>\n",
       "      <td>63</td>\n",
       "      <td>renovated</td>\n",
       "    </tr>\n",
       "    <tr>\n",
       "      <th>2</th>\n",
       "      <td>5631500400</td>\n",
       "      <td>180000.0</td>\n",
       "      <td>2</td>\n",
       "      <td>1.00</td>\n",
       "      <td>770</td>\n",
       "      <td>10000</td>\n",
       "      <td>1.0</td>\n",
       "      <td>0</td>\n",
       "      <td>0</td>\n",
       "      <td>3</td>\n",
       "      <td>...</td>\n",
       "      <td>770</td>\n",
       "      <td>0</td>\n",
       "      <td>0</td>\n",
       "      <td>98028</td>\n",
       "      <td>47.7379</td>\n",
       "      <td>-122.233</td>\n",
       "      <td>2720</td>\n",
       "      <td>8062</td>\n",
       "      <td>82</td>\n",
       "      <td>not renovated</td>\n",
       "    </tr>\n",
       "  </tbody>\n",
       "</table>\n",
       "<p>3 rows × 21 columns</p>\n",
       "</div>"
      ],
      "text/plain": [
       "           id     price  bedrooms  bathrooms  sqft_living  sqft_lot  floors  \\\n",
       "0  7129300520  221900.0         3       1.00         1180      5650     1.0   \n",
       "1  6414100192  538000.0         3       2.25         2570      7242     2.0   \n",
       "2  5631500400  180000.0         2       1.00          770     10000     1.0   \n",
       "\n",
       "   waterfront  view  condition  ...  sqft_above  sqft_basement  yr_renovated  \\\n",
       "0           0     0          3  ...        1180              0             0   \n",
       "1           0     0          3  ...        2170            400          1991   \n",
       "2           0     0          3  ...         770              0             0   \n",
       "\n",
       "   zipcode      lat     long  sqft_living15  sqft_lot15  house_age  \\\n",
       "0    98178  47.5112 -122.257           1340        5650         59   \n",
       "1    98125  47.7210 -122.319           1690        7639         63   \n",
       "2    98028  47.7379 -122.233           2720        8062         82   \n",
       "\n",
       "     renovations  \n",
       "0  not renovated  \n",
       "1      renovated  \n",
       "2  not renovated  \n",
       "\n",
       "[3 rows x 21 columns]"
      ]
     },
     "execution_count": 26,
     "metadata": {},
     "output_type": "execute_result"
    }
   ],
   "source": [
    "#preview dataset\n",
    "house_data.head(3)"
   ]
  },
  {
   "cell_type": "markdown",
   "metadata": {},
   "source": [
    "### Linear relationship between price and other variables"
   ]
  },
  {
   "cell_type": "code",
   "execution_count": 27,
   "metadata": {},
   "outputs": [
    {
     "data": {
      "text/html": [
       "<div>\n",
       "<style scoped>\n",
       "    .dataframe tbody tr th:only-of-type {\n",
       "        vertical-align: middle;\n",
       "    }\n",
       "\n",
       "    .dataframe tbody tr th {\n",
       "        vertical-align: top;\n",
       "    }\n",
       "\n",
       "    .dataframe thead th {\n",
       "        text-align: right;\n",
       "    }\n",
       "</style>\n",
       "<table border=\"1\" class=\"dataframe\">\n",
       "  <thead>\n",
       "    <tr style=\"text-align: right;\">\n",
       "      <th></th>\n",
       "      <th>id</th>\n",
       "      <th>price</th>\n",
       "      <th>bedrooms</th>\n",
       "      <th>bathrooms</th>\n",
       "      <th>sqft_living</th>\n",
       "      <th>sqft_lot</th>\n",
       "      <th>floors</th>\n",
       "      <th>waterfront</th>\n",
       "      <th>view</th>\n",
       "      <th>condition</th>\n",
       "      <th>grade</th>\n",
       "      <th>sqft_above</th>\n",
       "      <th>sqft_basement</th>\n",
       "      <th>yr_renovated</th>\n",
       "      <th>zipcode</th>\n",
       "      <th>lat</th>\n",
       "      <th>long</th>\n",
       "      <th>sqft_living15</th>\n",
       "      <th>sqft_lot15</th>\n",
       "      <th>house_age</th>\n",
       "    </tr>\n",
       "  </thead>\n",
       "  <tbody>\n",
       "    <tr>\n",
       "      <th>id</th>\n",
       "      <td>1.000000</td>\n",
       "      <td>-0.016681</td>\n",
       "      <td>0.001979</td>\n",
       "      <td>0.005158</td>\n",
       "      <td>-0.012251</td>\n",
       "      <td>-0.131930</td>\n",
       "      <td>0.018070</td>\n",
       "      <td>-0.003590</td>\n",
       "      <td>0.011751</td>\n",
       "      <td>-0.023628</td>\n",
       "      <td>0.008105</td>\n",
       "      <td>-0.010954</td>\n",
       "      <td>-0.004018</td>\n",
       "      <td>-0.010591</td>\n",
       "      <td>-0.008292</td>\n",
       "      <td>-0.001978</td>\n",
       "      <td>0.020718</td>\n",
       "      <td>-0.002753</td>\n",
       "      <td>-0.138598</td>\n",
       "      <td>-0.021203</td>\n",
       "    </tr>\n",
       "    <tr>\n",
       "      <th>price</th>\n",
       "      <td>-0.016681</td>\n",
       "      <td>1.000000</td>\n",
       "      <td>0.316080</td>\n",
       "      <td>0.526055</td>\n",
       "      <td>0.702181</td>\n",
       "      <td>0.089852</td>\n",
       "      <td>0.257212</td>\n",
       "      <td>0.264309</td>\n",
       "      <td>0.393557</td>\n",
       "      <td>0.035965</td>\n",
       "      <td>0.668270</td>\n",
       "      <td>0.605540</td>\n",
       "      <td>0.321079</td>\n",
       "      <td>0.117842</td>\n",
       "      <td>-0.053271</td>\n",
       "      <td>0.306784</td>\n",
       "      <td>0.021954</td>\n",
       "      <td>0.585271</td>\n",
       "      <td>0.082825</td>\n",
       "      <td>-0.054108</td>\n",
       "    </tr>\n",
       "    <tr>\n",
       "      <th>bedrooms</th>\n",
       "      <td>0.001979</td>\n",
       "      <td>0.316080</td>\n",
       "      <td>1.000000</td>\n",
       "      <td>0.527834</td>\n",
       "      <td>0.592960</td>\n",
       "      <td>0.033574</td>\n",
       "      <td>0.183977</td>\n",
       "      <td>-0.002062</td>\n",
       "      <td>0.080559</td>\n",
       "      <td>0.023409</td>\n",
       "      <td>0.366201</td>\n",
       "      <td>0.492203</td>\n",
       "      <td>0.303696</td>\n",
       "      <td>0.018623</td>\n",
       "      <td>-0.158379</td>\n",
       "      <td>-0.011760</td>\n",
       "      <td>0.136515</td>\n",
       "      <td>0.404402</td>\n",
       "      <td>0.031827</td>\n",
       "      <td>-0.161178</td>\n",
       "    </tr>\n",
       "    <tr>\n",
       "      <th>bathrooms</th>\n",
       "      <td>0.005158</td>\n",
       "      <td>0.526055</td>\n",
       "      <td>0.527834</td>\n",
       "      <td>1.000000</td>\n",
       "      <td>0.755668</td>\n",
       "      <td>0.088450</td>\n",
       "      <td>0.502745</td>\n",
       "      <td>0.063671</td>\n",
       "      <td>0.185961</td>\n",
       "      <td>-0.126371</td>\n",
       "      <td>0.665814</td>\n",
       "      <td>0.686574</td>\n",
       "      <td>0.278449</td>\n",
       "      <td>0.047234</td>\n",
       "      <td>-0.204805</td>\n",
       "      <td>0.024106</td>\n",
       "      <td>0.225131</td>\n",
       "      <td>0.569953</td>\n",
       "      <td>0.088359</td>\n",
       "      <td>-0.507750</td>\n",
       "    </tr>\n",
       "    <tr>\n",
       "      <th>sqft_living</th>\n",
       "      <td>-0.012251</td>\n",
       "      <td>0.702181</td>\n",
       "      <td>0.592960</td>\n",
       "      <td>0.755668</td>\n",
       "      <td>1.000000</td>\n",
       "      <td>0.173530</td>\n",
       "      <td>0.354238</td>\n",
       "      <td>0.104691</td>\n",
       "      <td>0.281591</td>\n",
       "      <td>-0.059387</td>\n",
       "      <td>0.762968</td>\n",
       "      <td>0.876388</td>\n",
       "      <td>0.428754</td>\n",
       "      <td>0.051094</td>\n",
       "      <td>-0.199737</td>\n",
       "      <td>0.052053</td>\n",
       "      <td>0.241386</td>\n",
       "      <td>0.756506</td>\n",
       "      <td>0.184399</td>\n",
       "      <td>-0.318826</td>\n",
       "    </tr>\n",
       "    <tr>\n",
       "      <th>sqft_lot</th>\n",
       "      <td>-0.131930</td>\n",
       "      <td>0.089852</td>\n",
       "      <td>0.033574</td>\n",
       "      <td>0.088450</td>\n",
       "      <td>0.173530</td>\n",
       "      <td>1.000000</td>\n",
       "      <td>-0.004589</td>\n",
       "      <td>0.021446</td>\n",
       "      <td>0.075054</td>\n",
       "      <td>-0.008902</td>\n",
       "      <td>0.114883</td>\n",
       "      <td>0.184192</td>\n",
       "      <td>0.015014</td>\n",
       "      <td>0.004949</td>\n",
       "      <td>-0.129492</td>\n",
       "      <td>-0.085439</td>\n",
       "      <td>0.230160</td>\n",
       "      <td>0.144717</td>\n",
       "      <td>0.718193</td>\n",
       "      <td>-0.053107</td>\n",
       "    </tr>\n",
       "    <tr>\n",
       "      <th>floors</th>\n",
       "      <td>0.018070</td>\n",
       "      <td>0.257212</td>\n",
       "      <td>0.183977</td>\n",
       "      <td>0.502745</td>\n",
       "      <td>0.354238</td>\n",
       "      <td>-0.004589</td>\n",
       "      <td>1.000000</td>\n",
       "      <td>0.020879</td>\n",
       "      <td>0.028343</td>\n",
       "      <td>-0.263753</td>\n",
       "      <td>0.458591</td>\n",
       "      <td>0.524470</td>\n",
       "      <td>-0.241870</td>\n",
       "      <td>0.003944</td>\n",
       "      <td>-0.060201</td>\n",
       "      <td>0.048868</td>\n",
       "      <td>0.126646</td>\n",
       "      <td>0.280604</td>\n",
       "      <td>-0.010497</td>\n",
       "      <td>-0.488989</td>\n",
       "    </tr>\n",
       "    <tr>\n",
       "      <th>waterfront</th>\n",
       "      <td>-0.003590</td>\n",
       "      <td>0.264309</td>\n",
       "      <td>-0.002062</td>\n",
       "      <td>0.063671</td>\n",
       "      <td>0.104691</td>\n",
       "      <td>0.021446</td>\n",
       "      <td>0.020879</td>\n",
       "      <td>1.000000</td>\n",
       "      <td>0.380596</td>\n",
       "      <td>0.016632</td>\n",
       "      <td>0.082880</td>\n",
       "      <td>0.071805</td>\n",
       "      <td>0.083058</td>\n",
       "      <td>0.073931</td>\n",
       "      <td>0.028971</td>\n",
       "      <td>-0.012129</td>\n",
       "      <td>-0.037669</td>\n",
       "      <td>0.083818</td>\n",
       "      <td>0.030646</td>\n",
       "      <td>0.024355</td>\n",
       "    </tr>\n",
       "    <tr>\n",
       "      <th>view</th>\n",
       "      <td>0.011751</td>\n",
       "      <td>0.393557</td>\n",
       "      <td>0.080559</td>\n",
       "      <td>0.185961</td>\n",
       "      <td>0.281591</td>\n",
       "      <td>0.075054</td>\n",
       "      <td>0.028343</td>\n",
       "      <td>0.380596</td>\n",
       "      <td>1.000000</td>\n",
       "      <td>0.045644</td>\n",
       "      <td>0.249083</td>\n",
       "      <td>0.165889</td>\n",
       "      <td>0.270771</td>\n",
       "      <td>0.090342</td>\n",
       "      <td>0.085147</td>\n",
       "      <td>0.006372</td>\n",
       "      <td>-0.077718</td>\n",
       "      <td>0.278856</td>\n",
       "      <td>0.073085</td>\n",
       "      <td>0.054449</td>\n",
       "    </tr>\n",
       "    <tr>\n",
       "      <th>condition</th>\n",
       "      <td>-0.023628</td>\n",
       "      <td>0.035965</td>\n",
       "      <td>0.023409</td>\n",
       "      <td>-0.126371</td>\n",
       "      <td>-0.059387</td>\n",
       "      <td>-0.008902</td>\n",
       "      <td>-0.263753</td>\n",
       "      <td>0.016632</td>\n",
       "      <td>0.045644</td>\n",
       "      <td>1.000000</td>\n",
       "      <td>-0.146672</td>\n",
       "      <td>-0.158859</td>\n",
       "      <td>0.168419</td>\n",
       "      <td>-0.055868</td>\n",
       "      <td>0.003115</td>\n",
       "      <td>-0.015009</td>\n",
       "      <td>-0.106062</td>\n",
       "      <td>-0.093114</td>\n",
       "      <td>-0.003186</td>\n",
       "      <td>0.360539</td>\n",
       "    </tr>\n",
       "    <tr>\n",
       "      <th>grade</th>\n",
       "      <td>0.008105</td>\n",
       "      <td>0.668270</td>\n",
       "      <td>0.366201</td>\n",
       "      <td>0.665814</td>\n",
       "      <td>0.762968</td>\n",
       "      <td>0.114883</td>\n",
       "      <td>0.458591</td>\n",
       "      <td>0.082880</td>\n",
       "      <td>0.249083</td>\n",
       "      <td>-0.146672</td>\n",
       "      <td>1.000000</td>\n",
       "      <td>0.756277</td>\n",
       "      <td>0.165872</td>\n",
       "      <td>0.015699</td>\n",
       "      <td>-0.186112</td>\n",
       "      <td>0.113442</td>\n",
       "      <td>0.200707</td>\n",
       "      <td>0.714225</td>\n",
       "      <td>0.121126</td>\n",
       "      <td>-0.448154</td>\n",
       "    </tr>\n",
       "    <tr>\n",
       "      <th>sqft_above</th>\n",
       "      <td>-0.010954</td>\n",
       "      <td>0.605540</td>\n",
       "      <td>0.492203</td>\n",
       "      <td>0.686574</td>\n",
       "      <td>0.876388</td>\n",
       "      <td>0.184192</td>\n",
       "      <td>0.524470</td>\n",
       "      <td>0.071805</td>\n",
       "      <td>0.165889</td>\n",
       "      <td>-0.158859</td>\n",
       "      <td>0.756277</td>\n",
       "      <td>1.000000</td>\n",
       "      <td>-0.051279</td>\n",
       "      <td>0.020656</td>\n",
       "      <td>-0.261532</td>\n",
       "      <td>-0.001337</td>\n",
       "      <td>0.344992</td>\n",
       "      <td>0.731788</td>\n",
       "      <td>0.195101</td>\n",
       "      <td>-0.424687</td>\n",
       "    </tr>\n",
       "    <tr>\n",
       "      <th>sqft_basement</th>\n",
       "      <td>-0.004018</td>\n",
       "      <td>0.321079</td>\n",
       "      <td>0.303696</td>\n",
       "      <td>0.278449</td>\n",
       "      <td>0.428754</td>\n",
       "      <td>0.015014</td>\n",
       "      <td>-0.241870</td>\n",
       "      <td>0.083058</td>\n",
       "      <td>0.270771</td>\n",
       "      <td>0.168419</td>\n",
       "      <td>0.165872</td>\n",
       "      <td>-0.051279</td>\n",
       "      <td>1.000000</td>\n",
       "      <td>0.065008</td>\n",
       "      <td>0.073454</td>\n",
       "      <td>0.109922</td>\n",
       "      <td>-0.142452</td>\n",
       "      <td>0.199332</td>\n",
       "      <td>0.015873</td>\n",
       "      <td>0.129786</td>\n",
       "    </tr>\n",
       "    <tr>\n",
       "      <th>yr_renovated</th>\n",
       "      <td>-0.010591</td>\n",
       "      <td>0.117842</td>\n",
       "      <td>0.018623</td>\n",
       "      <td>0.047234</td>\n",
       "      <td>0.051094</td>\n",
       "      <td>0.004949</td>\n",
       "      <td>0.003944</td>\n",
       "      <td>0.073931</td>\n",
       "      <td>0.090342</td>\n",
       "      <td>-0.055868</td>\n",
       "      <td>0.015699</td>\n",
       "      <td>0.020656</td>\n",
       "      <td>0.065008</td>\n",
       "      <td>1.000000</td>\n",
       "      <td>0.062505</td>\n",
       "      <td>0.028044</td>\n",
       "      <td>-0.064633</td>\n",
       "      <td>0.000641</td>\n",
       "      <td>0.004255</td>\n",
       "      <td>0.202209</td>\n",
       "    </tr>\n",
       "    <tr>\n",
       "      <th>zipcode</th>\n",
       "      <td>-0.008292</td>\n",
       "      <td>-0.053271</td>\n",
       "      <td>-0.158379</td>\n",
       "      <td>-0.204805</td>\n",
       "      <td>-0.199737</td>\n",
       "      <td>-0.129492</td>\n",
       "      <td>-0.060201</td>\n",
       "      <td>0.028971</td>\n",
       "      <td>0.085147</td>\n",
       "      <td>0.003115</td>\n",
       "      <td>-0.186112</td>\n",
       "      <td>-0.261532</td>\n",
       "      <td>0.073454</td>\n",
       "      <td>0.062505</td>\n",
       "      <td>1.000000</td>\n",
       "      <td>0.266619</td>\n",
       "      <td>-0.564119</td>\n",
       "      <td>-0.279124</td>\n",
       "      <td>-0.147213</td>\n",
       "      <td>0.348191</td>\n",
       "    </tr>\n",
       "    <tr>\n",
       "      <th>lat</th>\n",
       "      <td>-0.001978</td>\n",
       "      <td>0.306784</td>\n",
       "      <td>-0.011760</td>\n",
       "      <td>0.024106</td>\n",
       "      <td>0.052053</td>\n",
       "      <td>-0.085439</td>\n",
       "      <td>0.048868</td>\n",
       "      <td>-0.012129</td>\n",
       "      <td>0.006372</td>\n",
       "      <td>-0.015009</td>\n",
       "      <td>0.113442</td>\n",
       "      <td>-0.001337</td>\n",
       "      <td>0.109922</td>\n",
       "      <td>0.028044</td>\n",
       "      <td>0.266619</td>\n",
       "      <td>1.000000</td>\n",
       "      <td>-0.135187</td>\n",
       "      <td>0.048761</td>\n",
       "      <td>-0.086076</td>\n",
       "      <td>0.148470</td>\n",
       "    </tr>\n",
       "    <tr>\n",
       "      <th>long</th>\n",
       "      <td>0.020718</td>\n",
       "      <td>0.021954</td>\n",
       "      <td>0.136515</td>\n",
       "      <td>0.225131</td>\n",
       "      <td>0.241386</td>\n",
       "      <td>0.230160</td>\n",
       "      <td>0.126646</td>\n",
       "      <td>-0.037669</td>\n",
       "      <td>-0.077718</td>\n",
       "      <td>-0.106062</td>\n",
       "      <td>0.200707</td>\n",
       "      <td>0.344992</td>\n",
       "      <td>-0.142452</td>\n",
       "      <td>-0.064633</td>\n",
       "      <td>-0.564119</td>\n",
       "      <td>-0.135187</td>\n",
       "      <td>1.000000</td>\n",
       "      <td>0.335533</td>\n",
       "      <td>0.255531</td>\n",
       "      <td>-0.410829</td>\n",
       "    </tr>\n",
       "    <tr>\n",
       "      <th>sqft_living15</th>\n",
       "      <td>-0.002753</td>\n",
       "      <td>0.585271</td>\n",
       "      <td>0.404402</td>\n",
       "      <td>0.569953</td>\n",
       "      <td>0.756506</td>\n",
       "      <td>0.144717</td>\n",
       "      <td>0.280604</td>\n",
       "      <td>0.083818</td>\n",
       "      <td>0.278856</td>\n",
       "      <td>-0.093114</td>\n",
       "      <td>0.714225</td>\n",
       "      <td>0.731788</td>\n",
       "      <td>0.199332</td>\n",
       "      <td>0.000641</td>\n",
       "      <td>-0.279124</td>\n",
       "      <td>0.048761</td>\n",
       "      <td>0.335533</td>\n",
       "      <td>1.000000</td>\n",
       "      <td>0.183465</td>\n",
       "      <td>-0.327193</td>\n",
       "    </tr>\n",
       "    <tr>\n",
       "      <th>sqft_lot15</th>\n",
       "      <td>-0.138598</td>\n",
       "      <td>0.082825</td>\n",
       "      <td>0.031827</td>\n",
       "      <td>0.088359</td>\n",
       "      <td>0.184399</td>\n",
       "      <td>0.718193</td>\n",
       "      <td>-0.010497</td>\n",
       "      <td>0.030646</td>\n",
       "      <td>0.073085</td>\n",
       "      <td>-0.003186</td>\n",
       "      <td>0.121126</td>\n",
       "      <td>0.195101</td>\n",
       "      <td>0.015873</td>\n",
       "      <td>0.004255</td>\n",
       "      <td>-0.147213</td>\n",
       "      <td>-0.086076</td>\n",
       "      <td>0.255531</td>\n",
       "      <td>0.183465</td>\n",
       "      <td>1.000000</td>\n",
       "      <td>-0.071028</td>\n",
       "    </tr>\n",
       "    <tr>\n",
       "      <th>house_age</th>\n",
       "      <td>-0.021203</td>\n",
       "      <td>-0.054108</td>\n",
       "      <td>-0.161178</td>\n",
       "      <td>-0.507750</td>\n",
       "      <td>-0.318826</td>\n",
       "      <td>-0.053107</td>\n",
       "      <td>-0.488989</td>\n",
       "      <td>0.024355</td>\n",
       "      <td>0.054449</td>\n",
       "      <td>0.360539</td>\n",
       "      <td>-0.448154</td>\n",
       "      <td>-0.424687</td>\n",
       "      <td>0.129786</td>\n",
       "      <td>0.202209</td>\n",
       "      <td>0.348191</td>\n",
       "      <td>0.148470</td>\n",
       "      <td>-0.410829</td>\n",
       "      <td>-0.327193</td>\n",
       "      <td>-0.071028</td>\n",
       "      <td>1.000000</td>\n",
       "    </tr>\n",
       "  </tbody>\n",
       "</table>\n",
       "</div>"
      ],
      "text/plain": [
       "                     id     price  bedrooms  bathrooms  sqft_living  sqft_lot  \\\n",
       "id             1.000000 -0.016681  0.001979   0.005158    -0.012251 -0.131930   \n",
       "price         -0.016681  1.000000  0.316080   0.526055     0.702181  0.089852   \n",
       "bedrooms       0.001979  0.316080  1.000000   0.527834     0.592960  0.033574   \n",
       "bathrooms      0.005158  0.526055  0.527834   1.000000     0.755668  0.088450   \n",
       "sqft_living   -0.012251  0.702181  0.592960   0.755668     1.000000  0.173530   \n",
       "sqft_lot      -0.131930  0.089852  0.033574   0.088450     0.173530  1.000000   \n",
       "floors         0.018070  0.257212  0.183977   0.502745     0.354238 -0.004589   \n",
       "waterfront    -0.003590  0.264309 -0.002062   0.063671     0.104691  0.021446   \n",
       "view           0.011751  0.393557  0.080559   0.185961     0.281591  0.075054   \n",
       "condition     -0.023628  0.035965  0.023409  -0.126371    -0.059387 -0.008902   \n",
       "grade          0.008105  0.668270  0.366201   0.665814     0.762968  0.114883   \n",
       "sqft_above    -0.010954  0.605540  0.492203   0.686574     0.876388  0.184192   \n",
       "sqft_basement -0.004018  0.321079  0.303696   0.278449     0.428754  0.015014   \n",
       "yr_renovated  -0.010591  0.117842  0.018623   0.047234     0.051094  0.004949   \n",
       "zipcode       -0.008292 -0.053271 -0.158379  -0.204805    -0.199737 -0.129492   \n",
       "lat           -0.001978  0.306784 -0.011760   0.024106     0.052053 -0.085439   \n",
       "long           0.020718  0.021954  0.136515   0.225131     0.241386  0.230160   \n",
       "sqft_living15 -0.002753  0.585271  0.404402   0.569953     0.756506  0.144717   \n",
       "sqft_lot15    -0.138598  0.082825  0.031827   0.088359     0.184399  0.718193   \n",
       "house_age     -0.021203 -0.054108 -0.161178  -0.507750    -0.318826 -0.053107   \n",
       "\n",
       "                 floors  waterfront      view  condition     grade  \\\n",
       "id             0.018070   -0.003590  0.011751  -0.023628  0.008105   \n",
       "price          0.257212    0.264309  0.393557   0.035965  0.668270   \n",
       "bedrooms       0.183977   -0.002062  0.080559   0.023409  0.366201   \n",
       "bathrooms      0.502745    0.063671  0.185961  -0.126371  0.665814   \n",
       "sqft_living    0.354238    0.104691  0.281591  -0.059387  0.762968   \n",
       "sqft_lot      -0.004589    0.021446  0.075054  -0.008902  0.114883   \n",
       "floors         1.000000    0.020879  0.028343  -0.263753  0.458591   \n",
       "waterfront     0.020879    1.000000  0.380596   0.016632  0.082880   \n",
       "view           0.028343    0.380596  1.000000   0.045644  0.249083   \n",
       "condition     -0.263753    0.016632  0.045644   1.000000 -0.146672   \n",
       "grade          0.458591    0.082880  0.249083  -0.146672  1.000000   \n",
       "sqft_above     0.524470    0.071805  0.165889  -0.158859  0.756277   \n",
       "sqft_basement -0.241870    0.083058  0.270771   0.168419  0.165872   \n",
       "yr_renovated   0.003944    0.073931  0.090342  -0.055868  0.015699   \n",
       "zipcode       -0.060201    0.028971  0.085147   0.003115 -0.186112   \n",
       "lat            0.048868   -0.012129  0.006372  -0.015009  0.113442   \n",
       "long           0.126646   -0.037669 -0.077718  -0.106062  0.200707   \n",
       "sqft_living15  0.280604    0.083818  0.278856  -0.093114  0.714225   \n",
       "sqft_lot15    -0.010497    0.030646  0.073085  -0.003186  0.121126   \n",
       "house_age     -0.488989    0.024355  0.054449   0.360539 -0.448154   \n",
       "\n",
       "               sqft_above  sqft_basement  yr_renovated   zipcode       lat  \\\n",
       "id              -0.010954      -0.004018     -0.010591 -0.008292 -0.001978   \n",
       "price            0.605540       0.321079      0.117842 -0.053271  0.306784   \n",
       "bedrooms         0.492203       0.303696      0.018623 -0.158379 -0.011760   \n",
       "bathrooms        0.686574       0.278449      0.047234 -0.204805  0.024106   \n",
       "sqft_living      0.876388       0.428754      0.051094 -0.199737  0.052053   \n",
       "sqft_lot         0.184192       0.015014      0.004949 -0.129492 -0.085439   \n",
       "floors           0.524470      -0.241870      0.003944 -0.060201  0.048868   \n",
       "waterfront       0.071805       0.083058      0.073931  0.028971 -0.012129   \n",
       "view             0.165889       0.270771      0.090342  0.085147  0.006372   \n",
       "condition       -0.158859       0.168419     -0.055868  0.003115 -0.015009   \n",
       "grade            0.756277       0.165872      0.015699 -0.186112  0.113442   \n",
       "sqft_above       1.000000      -0.051279      0.020656 -0.261532 -0.001337   \n",
       "sqft_basement   -0.051279       1.000000      0.065008  0.073454  0.109922   \n",
       "yr_renovated     0.020656       0.065008      1.000000  0.062505  0.028044   \n",
       "zipcode         -0.261532       0.073454      0.062505  1.000000  0.266619   \n",
       "lat             -0.001337       0.109922      0.028044  0.266619  1.000000   \n",
       "long             0.344992      -0.142452     -0.064633 -0.564119 -0.135187   \n",
       "sqft_living15    0.731788       0.199332      0.000641 -0.279124  0.048761   \n",
       "sqft_lot15       0.195101       0.015873      0.004255 -0.147213 -0.086076   \n",
       "house_age       -0.424687       0.129786      0.202209  0.348191  0.148470   \n",
       "\n",
       "                   long  sqft_living15  sqft_lot15  house_age  \n",
       "id             0.020718      -0.002753   -0.138598  -0.021203  \n",
       "price          0.021954       0.585271    0.082825  -0.054108  \n",
       "bedrooms       0.136515       0.404402    0.031827  -0.161178  \n",
       "bathrooms      0.225131       0.569953    0.088359  -0.507750  \n",
       "sqft_living    0.241386       0.756506    0.184399  -0.318826  \n",
       "sqft_lot       0.230160       0.144717    0.718193  -0.053107  \n",
       "floors         0.126646       0.280604   -0.010497  -0.488989  \n",
       "waterfront    -0.037669       0.083818    0.030646   0.024355  \n",
       "view          -0.077718       0.278856    0.073085   0.054449  \n",
       "condition     -0.106062      -0.093114   -0.003186   0.360539  \n",
       "grade          0.200707       0.714225    0.121126  -0.448154  \n",
       "sqft_above     0.344992       0.731788    0.195101  -0.424687  \n",
       "sqft_basement -0.142452       0.199332    0.015873   0.129786  \n",
       "yr_renovated  -0.064633       0.000641    0.004255   0.202209  \n",
       "zipcode       -0.564119      -0.279124   -0.147213   0.348191  \n",
       "lat           -0.135187       0.048761   -0.086076   0.148470  \n",
       "long           1.000000       0.335533    0.255531  -0.410829  \n",
       "sqft_living15  0.335533       1.000000    0.183465  -0.327193  \n",
       "sqft_lot15     0.255531       0.183465    1.000000  -0.071028  \n",
       "house_age     -0.410829      -0.327193   -0.071028   1.000000  "
      ]
     },
     "execution_count": 27,
     "metadata": {},
     "output_type": "execute_result"
    }
   ],
   "source": [
    "# house data correlation\n",
    "house_data.corr()"
   ]
  },
  {
   "cell_type": "code",
   "execution_count": 28,
   "metadata": {},
   "outputs": [
    {
     "data": {
      "image/png": "[encoded data removed]",
      "text/plain": [
       "<Figure size 1152x1080 with 18 Axes>"
      ]
     },
     "metadata": {
      "needs_background": "light"
     },
     "output_type": "display_data"
    }
   ],
   "source": [
    "#scatter plots of price vs other columns\n",
    "fig, axes = plt.subplots(nrows=6, ncols=3, figsize=(16,15), sharey=True )\n",
    "\n",
    "for ax, column in zip(axes.flatten(), house_data.columns[3:]):\n",
    "    ax.scatter(house_data[column], house_data['price'], label=column, alpha=.1)\n",
    "    ax.set_title(f'price vs {column}')\n",
    "    ax.set_xlabel(column)\n",
    "    ax.set_ylabel('Price')\n",
    "fig.tight_layout()"
   ]
  },
  {
   "cell_type": "markdown",
   "metadata": {},
   "source": [
    "- Sqft_living has the highest positive correlation with price. \n",
    "- Price has a high positive correlation with bathrooms, grade, sqft_above, and sqft_living15.\n",
    "- Price has low positive correlation with bedrooms, floors, waterfront, view, sqft_basement and latitude.\n",
    "- Price has no clear relationship with sqft_lot, condition, house_age, yr_renovated, zipcode, longitude and sqft_lot15."
   ]
  },
  {
   "cell_type": "markdown",
   "metadata": {},
   "source": [
    "### Select predictor and target variables"
   ]
  },
  {
   "cell_type": "markdown",
   "metadata": {},
   "source": [
    "Price is the target variable. House features to be used in modelling are bedrooms, bathrooms, sqft_living, sqft_lot, floors, waterfront, condition, grade, sqft_above, sqft_living15, sqft_lot, house_age and renovations.\n"
   ]
  },
  {
   "cell_type": "code",
   "execution_count": 29,
   "metadata": {},
   "outputs": [
    {
     "data": {
      "text/html": [
       "<div>\n",
       "<style scoped>\n",
       "    .dataframe tbody tr th:only-of-type {\n",
       "        vertical-align: middle;\n",
       "    }\n",
       "\n",
       "    .dataframe tbody tr th {\n",
       "        vertical-align: top;\n",
       "    }\n",
       "\n",
       "    .dataframe thead th {\n",
       "        text-align: right;\n",
       "    }\n",
       "</style>\n",
       "<table border=\"1\" class=\"dataframe\">\n",
       "  <thead>\n",
       "    <tr style=\"text-align: right;\">\n",
       "      <th></th>\n",
       "      <th>price</th>\n",
       "      <th>bedrooms</th>\n",
       "      <th>bathrooms</th>\n",
       "      <th>sqft_living</th>\n",
       "      <th>sqft_lot</th>\n",
       "      <th>floors</th>\n",
       "      <th>waterfront</th>\n",
       "      <th>condition</th>\n",
       "      <th>grade</th>\n",
       "      <th>sqft_above</th>\n",
       "      <th>sqft_living15</th>\n",
       "      <th>sqft_lot15</th>\n",
       "      <th>house_age</th>\n",
       "      <th>renovations</th>\n",
       "    </tr>\n",
       "  </thead>\n",
       "  <tbody>\n",
       "    <tr>\n",
       "      <th>0</th>\n",
       "      <td>221900.0</td>\n",
       "      <td>3</td>\n",
       "      <td>1.00</td>\n",
       "      <td>1180</td>\n",
       "      <td>5650</td>\n",
       "      <td>1.0</td>\n",
       "      <td>0</td>\n",
       "      <td>3</td>\n",
       "      <td>7</td>\n",
       "      <td>1180</td>\n",
       "      <td>1340</td>\n",
       "      <td>5650</td>\n",
       "      <td>59</td>\n",
       "      <td>not renovated</td>\n",
       "    </tr>\n",
       "    <tr>\n",
       "      <th>1</th>\n",
       "      <td>538000.0</td>\n",
       "      <td>3</td>\n",
       "      <td>2.25</td>\n",
       "      <td>2570</td>\n",
       "      <td>7242</td>\n",
       "      <td>2.0</td>\n",
       "      <td>0</td>\n",
       "      <td>3</td>\n",
       "      <td>7</td>\n",
       "      <td>2170</td>\n",
       "      <td>1690</td>\n",
       "      <td>7639</td>\n",
       "      <td>63</td>\n",
       "      <td>renovated</td>\n",
       "    </tr>\n",
       "    <tr>\n",
       "      <th>2</th>\n",
       "      <td>180000.0</td>\n",
       "      <td>2</td>\n",
       "      <td>1.00</td>\n",
       "      <td>770</td>\n",
       "      <td>10000</td>\n",
       "      <td>1.0</td>\n",
       "      <td>0</td>\n",
       "      <td>3</td>\n",
       "      <td>6</td>\n",
       "      <td>770</td>\n",
       "      <td>2720</td>\n",
       "      <td>8062</td>\n",
       "      <td>82</td>\n",
       "      <td>not renovated</td>\n",
       "    </tr>\n",
       "    <tr>\n",
       "      <th>3</th>\n",
       "      <td>604000.0</td>\n",
       "      <td>4</td>\n",
       "      <td>3.00</td>\n",
       "      <td>1960</td>\n",
       "      <td>5000</td>\n",
       "      <td>1.0</td>\n",
       "      <td>0</td>\n",
       "      <td>5</td>\n",
       "      <td>7</td>\n",
       "      <td>1050</td>\n",
       "      <td>1360</td>\n",
       "      <td>5000</td>\n",
       "      <td>49</td>\n",
       "      <td>not renovated</td>\n",
       "    </tr>\n",
       "    <tr>\n",
       "      <th>4</th>\n",
       "      <td>510000.0</td>\n",
       "      <td>3</td>\n",
       "      <td>2.00</td>\n",
       "      <td>1680</td>\n",
       "      <td>8080</td>\n",
       "      <td>1.0</td>\n",
       "      <td>0</td>\n",
       "      <td>3</td>\n",
       "      <td>8</td>\n",
       "      <td>1680</td>\n",
       "      <td>1800</td>\n",
       "      <td>7503</td>\n",
       "      <td>28</td>\n",
       "      <td>not renovated</td>\n",
       "    </tr>\n",
       "  </tbody>\n",
       "</table>\n",
       "</div>"
      ],
      "text/plain": [
       "      price  bedrooms  bathrooms  sqft_living  sqft_lot  floors  waterfront  \\\n",
       "0  221900.0         3       1.00         1180      5650     1.0           0   \n",
       "1  538000.0         3       2.25         2570      7242     2.0           0   \n",
       "2  180000.0         2       1.00          770     10000     1.0           0   \n",
       "3  604000.0         4       3.00         1960      5000     1.0           0   \n",
       "4  510000.0         3       2.00         1680      8080     1.0           0   \n",
       "\n",
       "   condition  grade  sqft_above  sqft_living15  sqft_lot15  house_age  \\\n",
       "0          3      7        1180           1340        5650         59   \n",
       "1          3      7        2170           1690        7639         63   \n",
       "2          3      6         770           2720        8062         82   \n",
       "3          5      7        1050           1360        5000         49   \n",
       "4          3      8        1680           1800        7503         28   \n",
       "\n",
       "     renovations  \n",
       "0  not renovated  \n",
       "1      renovated  \n",
       "2  not renovated  \n",
       "3  not renovated  \n",
       "4  not renovated  "
      ]
     },
     "execution_count": 29,
     "metadata": {},
     "output_type": "execute_result"
    }
   ],
   "source": [
    "# drop irrelevant columns\n",
    "house_data = house_data.copy()\n",
    "house_data = house_data.drop(['id', 'lat', 'long', 'yr_renovated', 'zipcode', 'sqft_basement', 'view'] , axis=1)\n",
    "house_data.head()"
   ]
  },
  {
   "cell_type": "markdown",
   "metadata": {},
   "source": [
    "### Multicollinearity of features"
   ]
  },
  {
   "cell_type": "code",
   "execution_count": 30,
   "metadata": {
    "scrolled": true
   },
   "outputs": [
    {
     "data": {
      "text/html": [
       "<div>\n",
       "<style scoped>\n",
       "    .dataframe tbody tr th:only-of-type {\n",
       "        vertical-align: middle;\n",
       "    }\n",
       "\n",
       "    .dataframe tbody tr th {\n",
       "        vertical-align: top;\n",
       "    }\n",
       "\n",
       "    .dataframe thead th {\n",
       "        text-align: right;\n",
       "    }\n",
       "</style>\n",
       "<table border=\"1\" class=\"dataframe\">\n",
       "  <thead>\n",
       "    <tr style=\"text-align: right;\">\n",
       "      <th></th>\n",
       "      <th>cc</th>\n",
       "    </tr>\n",
       "    <tr>\n",
       "      <th>pairs</th>\n",
       "      <th></th>\n",
       "    </tr>\n",
       "  </thead>\n",
       "  <tbody>\n",
       "    <tr>\n",
       "      <th>(sqft_above, sqft_living)</th>\n",
       "      <td>0.876388</td>\n",
       "    </tr>\n",
       "    <tr>\n",
       "      <th>(grade, sqft_living)</th>\n",
       "      <td>0.762968</td>\n",
       "    </tr>\n",
       "    <tr>\n",
       "      <th>(sqft_living, sqft_living15)</th>\n",
       "      <td>0.756506</td>\n",
       "    </tr>\n",
       "    <tr>\n",
       "      <th>(grade, sqft_above)</th>\n",
       "      <td>0.756277</td>\n",
       "    </tr>\n",
       "    <tr>\n",
       "      <th>(sqft_living, bathrooms)</th>\n",
       "      <td>0.755668</td>\n",
       "    </tr>\n",
       "  </tbody>\n",
       "</table>\n",
       "</div>"
      ],
      "text/plain": [
       "                                    cc\n",
       "pairs                                 \n",
       "(sqft_above, sqft_living)     0.876388\n",
       "(grade, sqft_living)          0.762968\n",
       "(sqft_living, sqft_living15)  0.756506\n",
       "(grade, sqft_above)           0.756277\n",
       "(sqft_living, bathrooms)      0.755668"
      ]
     },
     "execution_count": 30,
     "metadata": {},
     "output_type": "execute_result"
    }
   ],
   "source": [
    "# pairs with collinearity > 0.75\n",
    "df = house_data.corr().abs().stack().reset_index().sort_values(0, ascending=False)\n",
    "df['pairs'] = list(zip(df.level_0, df.level_1))\n",
    "df.set_index(['pairs'], inplace = True)\n",
    "df.drop(columns=['level_1', 'level_0'], inplace = True)\n",
    "df.columns = ['cc']\n",
    "df.drop_duplicates(inplace=True)\n",
    "df[(df.cc>.75) & (df.cc<1)]"
   ]
  },
  {
   "cell_type": "code",
   "execution_count": 31,
   "metadata": {},
   "outputs": [],
   "source": [
    "# drop some columns to address the collinearity\n",
    "house_data = house_data.drop(columns = ['sqft_above', 'sqft_living15', 'bathrooms', 'grade'])"
   ]
  },
  {
   "cell_type": "code",
   "execution_count": 32,
   "metadata": {
    "scrolled": true
   },
   "outputs": [
    {
     "data": {
      "text/plain": [
       "Index(['price', 'bedrooms', 'sqft_living', 'sqft_lot', 'floors', 'waterfront',\n",
       "       'condition', 'sqft_lot15', 'house_age', 'renovations'],\n",
       "      dtype='object')"
      ]
     },
     "execution_count": 32,
     "metadata": {},
     "output_type": "execute_result"
    }
   ],
   "source": [
    "# check column names\n",
    "house_data.columns"
   ]
  },
  {
   "cell_type": "markdown",
   "metadata": {},
   "source": [
    "### Train-test Split"
   ]
  },
  {
   "cell_type": "markdown",
   "metadata": {},
   "source": [
    "The model will be trained on just the train set, then we will compare its predictions on the test set to the actual prices on the test set."
   ]
  },
  {
   "cell_type": "code",
   "execution_count": 33,
   "metadata": {},
   "outputs": [],
   "source": [
    "# split the data into a train set and test set\n",
    "y = house_data[['price']]\n",
    "X = house_data.drop(['price'], axis=1)\n",
    "X_train, X_test, y_train, y_test = train_test_split(X, y, test_size=0.2, random_state=42)"
   ]
  },
  {
   "cell_type": "code",
   "execution_count": 34,
   "metadata": {},
   "outputs": [
    {
     "data": {
      "text/html": [
       "<div>\n",
       "<style scoped>\n",
       "    .dataframe tbody tr th:only-of-type {\n",
       "        vertical-align: middle;\n",
       "    }\n",
       "\n",
       "    .dataframe tbody tr th {\n",
       "        vertical-align: top;\n",
       "    }\n",
       "\n",
       "    .dataframe thead th {\n",
       "        text-align: right;\n",
       "    }\n",
       "</style>\n",
       "<table border=\"1\" class=\"dataframe\">\n",
       "  <thead>\n",
       "    <tr style=\"text-align: right;\">\n",
       "      <th></th>\n",
       "      <th>bedrooms</th>\n",
       "      <th>sqft_living</th>\n",
       "      <th>sqft_lot</th>\n",
       "      <th>floors</th>\n",
       "      <th>waterfront</th>\n",
       "      <th>condition</th>\n",
       "      <th>sqft_lot15</th>\n",
       "      <th>house_age</th>\n",
       "      <th>renovations</th>\n",
       "    </tr>\n",
       "  </thead>\n",
       "  <tbody>\n",
       "    <tr>\n",
       "      <th>13315</th>\n",
       "      <td>4</td>\n",
       "      <td>2200</td>\n",
       "      <td>5893</td>\n",
       "      <td>2.0</td>\n",
       "      <td>0</td>\n",
       "      <td>3</td>\n",
       "      <td>5757</td>\n",
       "      <td>7</td>\n",
       "      <td>not renovated</td>\n",
       "    </tr>\n",
       "    <tr>\n",
       "      <th>19635</th>\n",
       "      <td>4</td>\n",
       "      <td>2730</td>\n",
       "      <td>4962</td>\n",
       "      <td>2.0</td>\n",
       "      <td>0</td>\n",
       "      <td>3</td>\n",
       "      <td>3802</td>\n",
       "      <td>9</td>\n",
       "      <td>not renovated</td>\n",
       "    </tr>\n",
       "    <tr>\n",
       "      <th>19377</th>\n",
       "      <td>3</td>\n",
       "      <td>1520</td>\n",
       "      <td>4170</td>\n",
       "      <td>2.0</td>\n",
       "      <td>0</td>\n",
       "      <td>3</td>\n",
       "      <td>4237</td>\n",
       "      <td>10</td>\n",
       "      <td>not renovated</td>\n",
       "    </tr>\n",
       "  </tbody>\n",
       "</table>\n",
       "</div>"
      ],
      "text/plain": [
       "       bedrooms  sqft_living  sqft_lot  floors  waterfront  condition  \\\n",
       "13315         4         2200      5893     2.0           0          3   \n",
       "19635         4         2730      4962     2.0           0          3   \n",
       "19377         3         1520      4170     2.0           0          3   \n",
       "\n",
       "       sqft_lot15  house_age    renovations  \n",
       "13315        5757          7  not renovated  \n",
       "19635        3802          9  not renovated  \n",
       "19377        4237         10  not renovated  "
      ]
     },
     "execution_count": 34,
     "metadata": {},
     "output_type": "execute_result"
    }
   ],
   "source": [
    "# preview of X_train\n",
    "X_train.head(3)"
   ]
  },
  {
   "cell_type": "markdown",
   "metadata": {},
   "source": [
    "### Log transformations and scaling"
   ]
  },
  {
   "cell_type": "code",
   "execution_count": 35,
   "metadata": {},
   "outputs": [
    {
     "data": {
      "image/png": "[encoded data removed]",
      "text/plain": [
       "<Figure size 1008x720 with 4 Axes>"
      ]
     },
     "metadata": {
      "needs_background": "light"
     },
     "output_type": "display_data"
    }
   ],
   "source": [
    "#distribution of continuous data\n",
    "continuous = ['sqft_lot',  'sqft_living', 'sqft_lot15', 'price']\n",
    "house_data[continuous].hist(figsize=(14,10), bins='auto');"
   ]
  },
  {
   "cell_type": "markdown",
   "metadata": {},
   "source": [
    "Since the distributions above are non-normal, log transformation is used to transform the features. Scaling is also used because there is a high variation in the feature scales."
   ]
  },
  {
   "cell_type": "code",
   "execution_count": 36,
   "metadata": {},
   "outputs": [],
   "source": [
    "# function for log transformation and scaling \n",
    "def preprocessing_data(data, continuous):\n",
    "    # log transformation\n",
    "    log_names = [f'{column}_log' for column in data[continuous].columns]\n",
    "    log_continuous = np.log(data[continuous])\n",
    "    log_continuous.columns = log_names\n",
    "    \n",
    "    # scale the data\n",
    "    scaler = StandardScaler()\n",
    "    scaled_data = pd.DataFrame(scaler.fit_transform(log_continuous), \n",
    "                               columns=log_continuous.columns, index=data.index)\n",
    "    \n",
    "    return scaled_data"
   ]
  },
  {
   "cell_type": "code",
   "execution_count": 37,
   "metadata": {},
   "outputs": [],
   "source": [
    "# preprocess the X_train and X_test data \n",
    "continuous = ['sqft_lot',  'sqft_living', 'sqft_lot15']\n",
    "processed_X_train = preprocessing_data(X_train, continuous)\n",
    "processed_X_test = preprocessing_data(X_test, continuous)"
   ]
  },
  {
   "cell_type": "code",
   "execution_count": 38,
   "metadata": {},
   "outputs": [
    {
     "data": {
      "text/html": [
       "<div>\n",
       "<style scoped>\n",
       "    .dataframe tbody tr th:only-of-type {\n",
       "        vertical-align: middle;\n",
       "    }\n",
       "\n",
       "    .dataframe tbody tr th {\n",
       "        vertical-align: top;\n",
       "    }\n",
       "\n",
       "    .dataframe thead th {\n",
       "        text-align: right;\n",
       "    }\n",
       "</style>\n",
       "<table border=\"1\" class=\"dataframe\">\n",
       "  <thead>\n",
       "    <tr style=\"text-align: right;\">\n",
       "      <th></th>\n",
       "      <th>sqft_lot_log</th>\n",
       "      <th>sqft_living_log</th>\n",
       "      <th>sqft_lot15_log</th>\n",
       "    </tr>\n",
       "  </thead>\n",
       "  <tbody>\n",
       "    <tr>\n",
       "      <th>13315</th>\n",
       "      <td>-0.344168</td>\n",
       "      <td>0.343393</td>\n",
       "      <td>-0.375805</td>\n",
       "    </tr>\n",
       "    <tr>\n",
       "      <th>19635</th>\n",
       "      <td>-0.533798</td>\n",
       "      <td>0.851753</td>\n",
       "      <td>-0.884666</td>\n",
       "    </tr>\n",
       "    <tr>\n",
       "      <th>19377</th>\n",
       "      <td>-0.725563</td>\n",
       "      <td>-0.527442</td>\n",
       "      <td>-0.751801</td>\n",
       "    </tr>\n",
       "  </tbody>\n",
       "</table>\n",
       "</div>"
      ],
      "text/plain": [
       "       sqft_lot_log  sqft_living_log  sqft_lot15_log\n",
       "13315     -0.344168         0.343393       -0.375805\n",
       "19635     -0.533798         0.851753       -0.884666\n",
       "19377     -0.725563        -0.527442       -0.751801"
      ]
     },
     "execution_count": 38,
     "metadata": {},
     "output_type": "execute_result"
    }
   ],
   "source": [
    "# preview of the procesed X-train dataframe\n",
    "processed_X_train.head(3)"
   ]
  },
  {
   "cell_type": "code",
   "execution_count": 39,
   "metadata": {},
   "outputs": [
    {
     "data": {
      "image/png": "[encoded data removed]",
      "text/plain": [
       "<Figure size 1008x720 with 4 Axes>"
      ]
     },
     "metadata": {
      "needs_background": "light"
     },
     "output_type": "display_data"
    }
   ],
   "source": [
    "# distribution after log transformation and scaling \n",
    "processed_X_train.hist(figsize=(14, 10), bins='auto')\n",
    "fig.tight_layout();"
   ]
  },
  {
   "cell_type": "markdown",
   "metadata": {},
   "source": [
    "After log transformation and scaling, the histograms are more normally distributed."
   ]
  },
  {
   "cell_type": "code",
   "execution_count": 40,
   "metadata": {},
   "outputs": [],
   "source": [
    "# preprocess the y_train and y_test data(price column)\n",
    "processed_y_train = preprocessing_data(y_train, ['price'])\n",
    "processed_y_test = preprocessing_data(y_test, ['price'])"
   ]
  },
  {
   "cell_type": "code",
   "execution_count": 41,
   "metadata": {},
   "outputs": [
    {
     "data": {
      "image/png": "[encoded data removed]",
      "text/plain": [
       "<Figure size 864x504 with 1 Axes>"
      ]
     },
     "metadata": {
      "needs_background": "light"
     },
     "output_type": "display_data"
    }
   ],
   "source": [
    "#price distribution after log transformation and scaling\n",
    "processed_y_train.hist(figsize=(12, 7), bins='auto')\n",
    "fig.tight_layout();"
   ]
  },
  {
   "cell_type": "markdown",
   "metadata": {},
   "source": [
    "The histogram showing price distribution forms an almost normal distribution."
   ]
  },
  {
   "cell_type": "code",
   "execution_count": 42,
   "metadata": {},
   "outputs": [],
   "source": [
    "# drop the continuous columns from the dataset\n",
    "# concatanate the remaining columns with the transformed continuous columns\n",
    "X_train_processed = pd.concat([X_train.drop(continuous, axis=1), processed_X_train], axis=1)\n",
    "X_test_processed = pd.concat([X_test.drop(continuous, axis=1), processed_X_test], axis=1)"
   ]
  },
  {
   "cell_type": "code",
   "execution_count": 43,
   "metadata": {},
   "outputs": [
    {
     "data": {
      "text/html": [
       "<div>\n",
       "<style scoped>\n",
       "    .dataframe tbody tr th:only-of-type {\n",
       "        vertical-align: middle;\n",
       "    }\n",
       "\n",
       "    .dataframe tbody tr th {\n",
       "        vertical-align: top;\n",
       "    }\n",
       "\n",
       "    .dataframe thead th {\n",
       "        text-align: right;\n",
       "    }\n",
       "</style>\n",
       "<table border=\"1\" class=\"dataframe\">\n",
       "  <thead>\n",
       "    <tr style=\"text-align: right;\">\n",
       "      <th></th>\n",
       "      <th>bedrooms</th>\n",
       "      <th>floors</th>\n",
       "      <th>waterfront</th>\n",
       "      <th>condition</th>\n",
       "      <th>house_age</th>\n",
       "      <th>renovations</th>\n",
       "      <th>sqft_lot_log</th>\n",
       "      <th>sqft_living_log</th>\n",
       "      <th>sqft_lot15_log</th>\n",
       "    </tr>\n",
       "  </thead>\n",
       "  <tbody>\n",
       "    <tr>\n",
       "      <th>13315</th>\n",
       "      <td>4</td>\n",
       "      <td>2.0</td>\n",
       "      <td>0</td>\n",
       "      <td>3</td>\n",
       "      <td>7</td>\n",
       "      <td>not renovated</td>\n",
       "      <td>-0.344168</td>\n",
       "      <td>0.343393</td>\n",
       "      <td>-0.375805</td>\n",
       "    </tr>\n",
       "    <tr>\n",
       "      <th>19635</th>\n",
       "      <td>4</td>\n",
       "      <td>2.0</td>\n",
       "      <td>0</td>\n",
       "      <td>3</td>\n",
       "      <td>9</td>\n",
       "      <td>not renovated</td>\n",
       "      <td>-0.533798</td>\n",
       "      <td>0.851753</td>\n",
       "      <td>-0.884666</td>\n",
       "    </tr>\n",
       "    <tr>\n",
       "      <th>19377</th>\n",
       "      <td>3</td>\n",
       "      <td>2.0</td>\n",
       "      <td>0</td>\n",
       "      <td>3</td>\n",
       "      <td>10</td>\n",
       "      <td>not renovated</td>\n",
       "      <td>-0.725563</td>\n",
       "      <td>-0.527442</td>\n",
       "      <td>-0.751801</td>\n",
       "    </tr>\n",
       "  </tbody>\n",
       "</table>\n",
       "</div>"
      ],
      "text/plain": [
       "       bedrooms  floors  waterfront  condition  house_age    renovations  \\\n",
       "13315         4     2.0           0          3          7  not renovated   \n",
       "19635         4     2.0           0          3          9  not renovated   \n",
       "19377         3     2.0           0          3         10  not renovated   \n",
       "\n",
       "       sqft_lot_log  sqft_living_log  sqft_lot15_log  \n",
       "13315     -0.344168         0.343393       -0.375805  \n",
       "19635     -0.533798         0.851753       -0.884666  \n",
       "19377     -0.725563        -0.527442       -0.751801  "
      ]
     },
     "execution_count": 43,
     "metadata": {},
     "output_type": "execute_result"
    }
   ],
   "source": [
    "# preview of the processed X-train data\n",
    "X_train_processed.head(3)"
   ]
  },
  {
   "cell_type": "markdown",
   "metadata": {},
   "source": [
    "### Transform categorical variables"
   ]
  },
  {
   "cell_type": "markdown",
   "metadata": {},
   "source": [
    "The categorical variables are bedrooms, floors, waterfront, condition and renovations. Bedrooms, floors and condition are ordinal variables while waterfront and renovations are binary variables. In this case, bedrooms, floors, condition and waterfront will be kept in the current form. Dummy variables will be created for the renovations column."
   ]
  },
  {
   "cell_type": "code",
   "execution_count": 44,
   "metadata": {},
   "outputs": [
    {
     "data": {
      "text/html": [
       "<div>\n",
       "<style scoped>\n",
       "    .dataframe tbody tr th:only-of-type {\n",
       "        vertical-align: middle;\n",
       "    }\n",
       "\n",
       "    .dataframe tbody tr th {\n",
       "        vertical-align: top;\n",
       "    }\n",
       "\n",
       "    .dataframe thead th {\n",
       "        text-align: right;\n",
       "    }\n",
       "</style>\n",
       "<table border=\"1\" class=\"dataframe\">\n",
       "  <thead>\n",
       "    <tr style=\"text-align: right;\">\n",
       "      <th></th>\n",
       "      <th>bedrooms</th>\n",
       "      <th>floors</th>\n",
       "      <th>waterfront</th>\n",
       "      <th>condition</th>\n",
       "      <th>house_age</th>\n",
       "      <th>sqft_lot_log</th>\n",
       "      <th>sqft_living_log</th>\n",
       "      <th>sqft_lot15_log</th>\n",
       "      <th>renovations_renovated</th>\n",
       "    </tr>\n",
       "  </thead>\n",
       "  <tbody>\n",
       "    <tr>\n",
       "      <th>13315</th>\n",
       "      <td>4</td>\n",
       "      <td>2.0</td>\n",
       "      <td>0</td>\n",
       "      <td>3</td>\n",
       "      <td>7</td>\n",
       "      <td>-0.344168</td>\n",
       "      <td>0.343393</td>\n",
       "      <td>-0.375805</td>\n",
       "      <td>0</td>\n",
       "    </tr>\n",
       "    <tr>\n",
       "      <th>19635</th>\n",
       "      <td>4</td>\n",
       "      <td>2.0</td>\n",
       "      <td>0</td>\n",
       "      <td>3</td>\n",
       "      <td>9</td>\n",
       "      <td>-0.533798</td>\n",
       "      <td>0.851753</td>\n",
       "      <td>-0.884666</td>\n",
       "      <td>0</td>\n",
       "    </tr>\n",
       "    <tr>\n",
       "      <th>19377</th>\n",
       "      <td>3</td>\n",
       "      <td>2.0</td>\n",
       "      <td>0</td>\n",
       "      <td>3</td>\n",
       "      <td>10</td>\n",
       "      <td>-0.725563</td>\n",
       "      <td>-0.527442</td>\n",
       "      <td>-0.751801</td>\n",
       "      <td>0</td>\n",
       "    </tr>\n",
       "  </tbody>\n",
       "</table>\n",
       "</div>"
      ],
      "text/plain": [
       "       bedrooms  floors  waterfront  condition  house_age  sqft_lot_log  \\\n",
       "13315         4     2.0           0          3          7     -0.344168   \n",
       "19635         4     2.0           0          3          9     -0.533798   \n",
       "19377         3     2.0           0          3         10     -0.725563   \n",
       "\n",
       "       sqft_living_log  sqft_lot15_log  renovations_renovated  \n",
       "13315         0.343393       -0.375805                      0  \n",
       "19635         0.851753       -0.884666                      0  \n",
       "19377        -0.527442       -0.751801                      0  "
      ]
     },
     "execution_count": 44,
     "metadata": {},
     "output_type": "execute_result"
    }
   ],
   "source": [
    "# Creating dummy variables for the categorical column renovations\n",
    "categorical_col = ['renovations']\n",
    "final_X_train = pd.get_dummies(X_train_processed, columns=categorical_col, drop_first=True)\n",
    "final_X_test = pd.get_dummies(X_test_processed, columns=categorical_col, drop_first=True)\n",
    "final_X_train.head(3)"
   ]
  },
  {
   "cell_type": "markdown",
   "metadata": {},
   "source": [
    "## Modeling"
   ]
  },
  {
   "cell_type": "markdown",
   "metadata": {},
   "source": [
    "### Baseline model"
   ]
  },
  {
   "cell_type": "markdown",
   "metadata": {},
   "source": [
    "Sqft_living has the highest positive correlation with price. A baseline model can be built using only the sqft_living feature."
   ]
  },
  {
   "cell_type": "code",
   "execution_count": 45,
   "metadata": {},
   "outputs": [
    {
     "name": "stdout",
     "output_type": "stream",
     "text": [
      "coefficient: [[0.67335554]]\n",
      "intercept: [1.47104714e-15]\n",
      "R-squared score: 0.4644237901048155\n"
     ]
    }
   ],
   "source": [
    "# model using sqft_living as the only predictive feature\n",
    "baseline_model = LinearRegression()\n",
    "baseline_model.fit(final_X_train[['sqft_living_log']], processed_y_train)\n",
    "print(f'coefficient: {baseline_model.coef_}')\n",
    "print(f'intercept: {baseline_model.intercept_}')\n",
    "R_squared = baseline_model.score(final_X_test[['sqft_living_log']], processed_y_test)\n",
    "print(f'R-squared score: {R_squared}')"
   ]
  },
  {
   "cell_type": "code",
   "execution_count": 46,
   "metadata": {},
   "outputs": [
    {
     "name": "stdout",
     "output_type": "stream",
     "text": [
      "Train MSE: 0.5465923174308049\n",
      "Test MSE: 0.5355762098951844\n"
     ]
    }
   ],
   "source": [
    "# mean_squared_error of train and test data\n",
    "train_mse = mean_squared_error(processed_y_train, baseline_model.predict(final_X_train[['sqft_living_log']]))\n",
    "test_mse = mean_squared_error(processed_y_test, baseline_model.predict(final_X_test[['sqft_living_log']]))\n",
    "print(f'Train MSE: {train_mse}')\n",
    "print(f'Test MSE: {test_mse}')"
   ]
  },
  {
   "cell_type": "markdown",
   "metadata": {},
   "source": [
    "The baseline model has approximately 46% of variations in price that are explained by sqft_living_log. This is a quite low score. The model is performing a little better on the test data than on the train data."
   ]
  },
  {
   "cell_type": "markdown",
   "metadata": {},
   "source": [
    "### Second model with all the house features"
   ]
  },
  {
   "cell_type": "code",
   "execution_count": 96,
   "metadata": {},
   "outputs": [
    {
     "name": "stdout",
     "output_type": "stream",
     "text": [
      "coefficient: [[-0.15967568  0.27449301  1.20209648  0.06592623  0.00787998 -0.06528569\n",
      "   0.80926281 -0.01144921  0.12035797]]\n",
      "intercept: [-0.45126109]\n",
      "R-squared score: 0.5377683836965932\n"
     ]
    }
   ],
   "source": [
    "# model using all house features\n",
    "second_model = LinearRegression()\n",
    "second_model.fit(final_X_train, processed_y_train)\n",
    "print(f'coefficient: {second_model.coef_}')\n",
    "print(f'intercept: {second_model.intercept_}')\n",
    "R_squared = second_model.score(final_X_test, processed_y_test)\n",
    "print(f'R-squared score: {R_squared}')"
   ]
  },
  {
   "cell_type": "code",
   "execution_count": 67,
   "metadata": {},
   "outputs": [
    {
     "name": "stdout",
     "output_type": "stream",
     "text": [
      "Train MSE: 0.46664379604257633\n",
      "Test MSE: 0.4622316163034067\n"
     ]
    }
   ],
   "source": [
    "# mean_squared_error of train and test data\n",
    "train_mse = mean_squared_error(processed_y_train, second_model.predict(final_X_train))\n",
    "test_mse = mean_squared_error(processed_y_test, second_model.predict(final_X_test))\n",
    "print(f'Train MSE: {train_mse}')\n",
    "print(f'Test MSE: {test_mse}')"
   ]
  },
  {
   "cell_type": "markdown",
   "metadata": {},
   "source": [
    "The second model with all features has a better R-squared score than the baseline model. The MSE error for both train and test data is slightly lower. The model is performing better on the test data than on the train data."
   ]
  },
  {
   "cell_type": "markdown",
   "metadata": {},
   "source": [
    "### Third model - Stepwise selection of features using p-values"
   ]
  },
  {
   "cell_type": "code",
   "execution_count": 49,
   "metadata": {},
   "outputs": [],
   "source": [
    "# function for stepwise selection of features using p-values\n",
    "def stepwise_selection(X, y, \n",
    "                       initial_list=[], \n",
    "                       threshold_in=0.01, \n",
    "                       threshold_out = 0.05, \n",
    "                       verbose=True):\n",
    "    included = list(initial_list)\n",
    "    while True:\n",
    "        changed=False\n",
    "        # forward step\n",
    "        excluded = list(set(X.columns)-set(included))\n",
    "        new_pval = pd.Series(index=excluded)\n",
    "        for new_column in excluded:\n",
    "            model = sm.OLS(y, sm.add_constant(pd.DataFrame(X[included+[new_column]]))).fit()\n",
    "            new_pval[new_column] = model.pvalues[new_column]\n",
    "        best_pval = new_pval.min()\n",
    "        if best_pval < threshold_in:\n",
    "            best_feature = new_pval.idxmin()\n",
    "            included.append(best_feature)\n",
    "            changed=True\n",
    "            if verbose:\n",
    "                print('Add  {:30} with p-value {:.6}'.format(best_feature, best_pval))\n",
    "\n",
    "        # backward step\n",
    "        model = sm.OLS(y, sm.add_constant(pd.DataFrame(X[included]))).fit()\n",
    "        # use all coefs except intercept\n",
    "        pvalues = model.pvalues.iloc[1:]\n",
    "        worst_pval = pvalues.max() # null if pvalues is empty\n",
    "        if worst_pval > threshold_out:\n",
    "            changed=True\n",
    "            worst_feature = pvalues.argmax()\n",
    "            included.remove(worst_feature)\n",
    "            if verbose:\n",
    "                print('Drop {:30} with p-value {:.6}'.format(worst_feature, worst_pval))\n",
    "        if not changed:\n",
    "            break\n",
    "    return included"
   ]
  },
  {
   "cell_type": "code",
   "execution_count": 50,
   "metadata": {},
   "outputs": [
    {
     "name": "stdout",
     "output_type": "stream",
     "text": [
      "Add  bedrooms                       with p-value 0.0\n",
      "Add  sqft_living_log                with p-value 0.0\n",
      "Add  house_age                      with p-value 4.78763e-227\n",
      "Add  floors                         with p-value 3.23088e-176\n",
      "Add  waterfront                     with p-value 7.90457e-73\n",
      "Add  sqft_lot_log                   with p-value 1.22577e-35\n",
      "Add  condition                      with p-value 4.00866e-12\n",
      "Add  renovations_renovated          with p-value 6.69701e-05\n",
      "resulting features:\n",
      "['bedrooms', 'sqft_living_log', 'house_age', 'floors', 'waterfront', 'sqft_lot_log', 'condition', 'renovations_renovated']\n"
     ]
    }
   ],
   "source": [
    "# selected features after calling the stepwise_selection function\n",
    "import warnings\n",
    "warnings.filterwarnings(\"ignore\")\n",
    "result = stepwise_selection(final_X_train, processed_y_train, verbose=True)\n",
    "print('resulting features:')\n",
    "print(result)"
   ]
  },
  {
   "cell_type": "markdown",
   "metadata": {},
   "source": [
    "All features are selected except sqft_lot15_log which has a p value > 0.05. "
   ]
  },
  {
   "cell_type": "code",
   "execution_count": 51,
   "metadata": {},
   "outputs": [],
   "source": [
    "# list for the selected features\n",
    "selected_by_pvalue = ['floors', 'sqft_living_log', 'house_age', 'bedrooms', 'waterfront', \n",
    "                      'sqft_lot_log', 'condition', 'renovations_renovated']"
   ]
  },
  {
   "cell_type": "code",
   "execution_count": 52,
   "metadata": {},
   "outputs": [
    {
     "name": "stdout",
     "output_type": "stream",
     "text": [
      "coefficient: [[ 0.27509639  0.80913486  0.00789975 -0.15949525  1.20055665 -0.0756923\n",
      "   0.06546701  0.11961099]]\n",
      "intercept: [-0.45202921]\n",
      "R-squared score: 0.5377008434945822\n"
     ]
    }
   ],
   "source": [
    "# model using the features selected\n",
    "third_model = LinearRegression()\n",
    "third_model.fit(final_X_train[selected_by_pvalue], processed_y_train)\n",
    "print(f'coefficient: {third_model.coef_}')\n",
    "print(f'intercept: {third_model.intercept_}')\n",
    "R_squared = third_model.score(final_X_test[selected_by_pvalue], processed_y_test)\n",
    "print(f'R-squared score: {R_squared}')"
   ]
  },
  {
   "cell_type": "code",
   "execution_count": 53,
   "metadata": {},
   "outputs": [
    {
     "name": "stdout",
     "output_type": "stream",
     "text": [
      "Train MSE: 0.4666637910508635\n",
      "Test MSE: 0.46229915650541775\n"
     ]
    }
   ],
   "source": [
    "# mean_squared_error of train and test data\n",
    "train_mse = mean_squared_error(processed_y_train, third_model.predict(final_X_train[selected_by_pvalue]))\n",
    "test_mse = mean_squared_error(processed_y_test, third_model.predict(final_X_test[selected_by_pvalue]))\n",
    "print(f'Train MSE: {train_mse}')\n",
    "print(f'Test MSE: {test_mse}')"
   ]
  },
  {
   "cell_type": "markdown",
   "metadata": {},
   "source": [
    "This model has a higher R-squared score than the baseline model. However, its R-squared score is slightly lower than the score of the second model. The model is performing better on the test data than on the train data. "
   ]
  },
  {
   "cell_type": "markdown",
   "metadata": {},
   "source": [
    "### Fourth model - Feature ranking with recursive feature elimination"
   ]
  },
  {
   "cell_type": "markdown",
   "metadata": {},
   "source": [
    "Four best features are selected using recursive feature elimination."
   ]
  },
  {
   "cell_type": "code",
   "execution_count": 54,
   "metadata": {},
   "outputs": [
    {
     "data": {
      "text/plain": [
       "Index(['floors', 'waterfront', 'sqft_living_log', 'renovations_renovated'], dtype='object')"
      ]
     },
     "execution_count": 54,
     "metadata": {},
     "output_type": "execute_result"
    }
   ],
   "source": [
    "# selecting features using recursive feature elimination\n",
    "model_selected4 = LinearRegression()\n",
    "selector = RFE(model_selected4, n_features_to_select=4)\n",
    "selector = selector.fit(final_X_train, processed_y_train)\n",
    "selected_columns = final_X_train.columns[selector.support_ ]\n",
    "selected_columns"
   ]
  },
  {
   "cell_type": "markdown",
   "metadata": {},
   "source": [
    "The features selected are floors, waterfront, sqft_living_log and renovations_renovated."
   ]
  },
  {
   "cell_type": "code",
   "execution_count": 55,
   "metadata": {},
   "outputs": [
    {
     "name": "stdout",
     "output_type": "stream",
     "text": [
      "coefficient: [[0.14647017 1.35624094 0.63173631 0.37968046]]\n",
      "intercept: [-0.24087282]\n",
      "R-squared score: 0.4873994087284256\n"
     ]
    }
   ],
   "source": [
    "# model using the 4 selected features\n",
    "X_train_selected4 = final_X_train[selected_columns]\n",
    "model_selected4.fit(X_train_selected4, processed_y_train)\n",
    "print(f'coefficient: {model_selected4.coef_}')\n",
    "print(f'intercept: {model_selected4.intercept_}')\n",
    "X_test_selected4 = final_X_test[selected_columns]\n",
    "R_squared = model_selected4.score(X_test_selected4, processed_y_test)\n",
    "print(f'R-squared score: {R_squared}')"
   ]
  },
  {
   "cell_type": "code",
   "execution_count": 56,
   "metadata": {},
   "outputs": [
    {
     "name": "stdout",
     "output_type": "stream",
     "text": [
      "Train MSE: 0.5234613462988185\n",
      "Test MSE: 0.5126005912715743\n"
     ]
    }
   ],
   "source": [
    "# mean_squared_error of train and test data\n",
    "train_mse = mean_squared_error(processed_y_train, model_selected4.predict(X_train_selected4))\n",
    "test_mse = mean_squared_error(processed_y_test, model_selected4.predict(X_test_selected4))\n",
    "print(f'Train MSE: {train_mse}')\n",
    "print(f'Test MSE: {test_mse}')"
   ]
  },
  {
   "cell_type": "markdown",
   "metadata": {},
   "source": [
    "## Linear regression assumptions"
   ]
  },
  {
   "cell_type": "markdown",
   "metadata": {},
   "source": [
    "The second model is the final model with the highest R-value and the lowest MSE errors. The assumptions of linear regression will be investigated using this model in order to understand how much the model violates the assumptions."
   ]
  },
  {
   "cell_type": "markdown",
   "metadata": {},
   "source": [
    "### Investigating linearity"
   ]
  },
  {
   "cell_type": "code",
   "execution_count": 138,
   "metadata": {},
   "outputs": [
    {
     "data": {
      "image/png": "[encoded data removed]",
      "text/plain": [
       "<Figure size 1296x576 with 2 Axes>"
      ]
     },
     "metadata": {
      "needs_background": "light"
     },
     "output_type": "display_data"
    }
   ],
   "source": [
    "# scatter and line plots showing linearity\n",
    "y_hat_test = second_model.predict(final_X_test)\n",
    "y_hat_train = second_model.predict(final_X_train)\n",
    "fig, axes = plt.subplots(ncols=2, figsize = (18,8))\n",
    "\n",
    "#Train set\n",
    "axes[0].scatter(processed_y_train, y_hat_train, label='Model')\n",
    "axes[0].plot(processed_y_train['price_log'], processed_y_train['price_log'], label='Actual data', color='red')\n",
    "axes[0].set_title('Model vs data for training set')\n",
    "axes[0].legend();\n",
    "\n",
    "# Test set\n",
    "axes[1].scatter(processed_y_test, y_hat_test, label='Model')\n",
    "axes[1].plot(processed_y_test['price_log'], processed_y_test['price_log'], label='Actual data',  color='red')\n",
    "axes[1].set_title('Model vs data for test set')\n",
    "axes[1].legend();"
   ]
  },
  {
   "cell_type": "markdown",
   "metadata": {},
   "source": [
    "Based on the training set and the test set, there is a linear relationship between the target variable and the predictors. There are a few outliers in the dataset hence they cannot have a large negative impact on the model."
   ]
  },
  {
   "cell_type": "markdown",
   "metadata": {},
   "source": [
    "### Investigating Normality"
   ]
  },
  {
   "cell_type": "code",
   "execution_count": 80,
   "metadata": {},
   "outputs": [
    {
     "data": {
      "image/png": "[encoded data removed]",
      "text/plain": [
       "<Figure size 720x504 with 1 Axes>"
      ]
     },
     "metadata": {
      "needs_background": "light"
     },
     "output_type": "display_data"
    }
   ],
   "source": [
    "# residuals distribution using qqplots\n",
    "fig, ax = plt.subplots(figsize=(10,7))\n",
    "second_model = sm.OLS(processed_y_train, sm.add_constant(final_X_train)).fit()\n",
    "residuals = second_model.resid\n",
    "fig = sm.graphics.qqplot(residuals, dist=stats.norm, line='45', fit=True, ax=ax)\n",
    "fig.suptitle('QQplot showing residuals distribution');"
   ]
  },
  {
   "cell_type": "markdown",
   "metadata": {},
   "source": [
    "The model residuals have a normal distribution."
   ]
  },
  {
   "cell_type": "markdown",
   "metadata": {},
   "source": [
    "### Investigating Homoscedasticity"
   ]
  },
  {
   "cell_type": "code",
   "execution_count": 88,
   "metadata": {},
   "outputs": [],
   "source": [
    "# residual\n",
    "residual = (processed_y_test - y_hat_test)"
   ]
  },
  {
   "cell_type": "code",
   "execution_count": 101,
   "metadata": {},
   "outputs": [
    {
     "data": {
      "image/png": "[encoded data removed]",
      "text/plain": [
       "<Figure size 576x504 with 1 Axes>"
      ]
     },
     "metadata": {
      "needs_background": "light"
     },
     "output_type": "display_data"
    }
   ],
   "source": [
    "# scatter and line plots showing homoscedasticity\n",
    "fig, ax = plt.subplots(figsize=(8,7))\n",
    "second_model = sm.OLS(processed_y_train, sm.add_constant(final_X_train)).fit()\n",
    "ax.scatter(y_hat_test, residual, alpha=0.5)\n",
    "ax.plot(y_hat_test, [0 for i in range(len(final_X_test))], color='red')\n",
    "ax.set_xlabel(\"Predicted Value\")\n",
    "ax.set_ylabel(\"Actual - Predicted Value\");"
   ]
  },
  {
   "cell_type": "markdown",
   "metadata": {},
   "source": [
    "The shape above is not cone-like, hence the homoscedascity assumption is met. The residuals are almost equal across the regression line."
   ]
  },
  {
   "cell_type": "markdown",
   "metadata": {},
   "source": [
    "## Conclusions and recommendations\n",
    "The final model will mainly be used for predictive purposes.  It can also be used for inferential purposes since none of the assumptions of linear regression has been violated. Most of the house features were found to have a significant effect on the price of houses. When various features were selected using various methods, the performance of the model was lower than that of the model with all the predictive features. The house features used for prediction, with a significant effect on the price value include:\n",
    "- Floors: number of floors in the house. A house with more floors is likely to have a higher sales price.\n",
    "- Sqft_living: footage of the home. The larger the footage of the home, the higher sales price of the house.\n",
    "- House_age: age of the house. It is the difference between the time when the house was built and when it was sold. As the house age increases, the price of the home decreases.\n",
    "- Bedrooms: number of bedrooms. The more the bedrooms, the higher the sales price.\n",
    "- Waterfront: house which has a view to a waterfront. The houses with a view to a waterfront have higher sales price than those without a view to a waterfront.\n",
    "- Sqft_lot: footage of the lot. The larger the footage of the lot, the higher sales price of the house.\n",
    "- Condition: how good the condition is (Overall). A house with a good overall condition has a high sales price.\n",
    "- Renovations: whether a house has been renovated. When a house is renovated, it's sales price increases.\n",
    "\n",
    "The real estate agency should advise the homeowners to renovate their homes before selling in order to improve the sale price of the house."
   ]
  },
  {
   "cell_type": "markdown",
   "metadata": {},
   "source": [
    "## Future work"
   ]
  },
  {
   "cell_type": "markdown",
   "metadata": {},
   "source": [
    "- Other types of modeling other than linear regression should be applied to determine the model that has the highest performance.\n",
    "- In the real estate industry, the price of houses  may be affected by other factors such as consumer sentiment, credit availability, inflation and other economic factors. Data should be collected on these external factors and the model adjusted based on the effects of these factors."
   ]
  }
 ],
 "metadata": {
  "kernelspec": {
   "display_name": "Python 3 (ipykernel)",
   "language": "python",
   "name": "python3"
  },
  "language_info": {
   "codemirror_mode": {
    "name": "ipython",
    "version": 3
   },
   "file_extension": ".py",
   "mimetype": "text/x-python",
   "name": "python",
   "nbconvert_exporter": "python",
   "pygments_lexer": "ipython3",
   "version": "3.9.12"
  }
 },
 "nbformat": 4,
 "nbformat_minor": 2
}
